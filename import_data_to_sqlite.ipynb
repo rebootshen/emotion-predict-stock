{
 "cells": [
  {
   "cell_type": "code",
   "execution_count": 1,
   "metadata": {},
   "outputs": [],
   "source": [
    "import sqlite3\n",
    "import pandas"
   ]
  },
  {
   "cell_type": "code",
   "execution_count": 2,
   "metadata": {},
   "outputs": [],
   "source": [
    "db = sqlite3.connect('xueqiu')"
   ]
  },
  {
   "cell_type": "code",
   "execution_count": null,
   "metadata": {},
   "outputs": [],
   "source": [
    "df_data = pandas.read_csv('data_pd.csv', index_col='_id')\n",
    "df_data"
   ]
  },
  {
   "cell_type": "code",
   "execution_count": null,
   "metadata": {},
   "outputs": [],
   "source": [
    "df_data.to_sql(name=\"comments\", con=db, if_exists=\"replace\", index_label=\"_id\")"
   ]
  },
  {
   "cell_type": "code",
   "execution_count": null,
   "metadata": {},
   "outputs": [],
   "source": []
  },
  {
   "cell_type": "code",
   "execution_count": null,
   "metadata": {},
   "outputs": [],
   "source": [
    "type(('id', -1))"
   ]
  },
  {
   "cell_type": "code",
   "execution_count": null,
   "metadata": {},
   "outputs": [],
   "source": [
    "tup=('id', -1)\n",
    "tup[0]"
   ]
  },
  {
   "cell_type": "code",
   "execution_count": null,
   "metadata": {},
   "outputs": [],
   "source": [
    "tup[1]"
   ]
  },
  {
   "cell_type": "code",
   "execution_count": null,
   "metadata": {},
   "outputs": [],
   "source": [
    "pandas.read_sql(sql='SELECT * FROM comments', con=db, index_col='_id')"
   ]
  },
  {
   "cell_type": "code",
   "execution_count": null,
   "metadata": {},
   "outputs": [],
   "source": []
  },
  {
   "cell_type": "code",
   "execution_count": 3,
   "metadata": {},
   "outputs": [],
   "source": [
    "table_name=\"comments\""
   ]
  },
  {
   "cell_type": "code",
   "execution_count": null,
   "metadata": {},
   "outputs": [],
   "source": [
    "pandas.read_sql(sql='SELECT * FROM '+table_name, con=db, index_col='_id')"
   ]
  },
  {
   "cell_type": "code",
   "execution_count": null,
   "metadata": {},
   "outputs": [],
   "source": [
    "user_id=5900568191"
   ]
  },
  {
   "cell_type": "code",
   "execution_count": null,
   "metadata": {},
   "outputs": [],
   "source": [
    "pandas.read_sql(sql='SELECT * FROM '+table_name+\" WHERE user_id=?\", con=db, index_col='_id', params=(user_id,))"
   ]
  },
  {
   "cell_type": "code",
   "execution_count": null,
   "metadata": {},
   "outputs": [],
   "source": [
    "pandas.read_sql(sql='SELECT * FROM '+table_name+\" WHERE ?=?\", con=db, index_col='_id', params=(\"user_id\", user_id,))"
   ]
  },
  {
   "cell_type": "code",
   "execution_count": null,
   "metadata": {},
   "outputs": [],
   "source": [
    "pandas.read_sql(sql='SELECT * FROM '+table_name+\" LIMIT 1\", con=db, index_col='_id')"
   ]
  },
  {
   "cell_type": "code",
   "execution_count": null,
   "metadata": {},
   "outputs": [],
   "source": [
    "pandas.read_sql(sql='SELECT * FROM '+table_name+\" ORDER BY ?\", con=db, index_col='_id', params=(\"_id\",))"
   ]
  },
  {
   "cell_type": "code",
   "execution_count": null,
   "metadata": {},
   "outputs": [],
   "source": [
    "pandas.read_sql(sql='SELECT * FROM '+table_name+\" ORDER BY _id ASC\", con=db, index_col='_id')"
   ]
  },
  {
   "cell_type": "code",
   "execution_count": null,
   "metadata": {},
   "outputs": [],
   "source": [
    "pandas.read_sql(sql='SELECT * FROM '+table_name+\" ORDER BY _id DESC\", con=db, index_col='_id')"
   ]
  },
  {
   "cell_type": "code",
   "execution_count": null,
   "metadata": {},
   "outputs": [],
   "source": [
    "pandas.read_sql(sql='SELECT * FROM '+table_name+\" ORDER BY ? DESC\", con=db, index_col='_id', params=(\"_id\",))"
   ]
  },
  {
   "cell_type": "code",
   "execution_count": null,
   "metadata": {},
   "outputs": [],
   "source": []
  },
  {
   "cell_type": "code",
   "execution_count": null,
   "metadata": {},
   "outputs": [],
   "source": [
    "parma = (29, 29, 29, \"sub_text\", 1.0, str(\"comment\"))"
   ]
  },
  {
   "cell_type": "code",
   "execution_count": null,
   "metadata": {},
   "outputs": [],
   "source": [
    "cursor = db.cursor()\n",
    "cursor.execute(\"INSERT INTO \"+table_name+\"(_id, user_id, time, text, snownlp_senta, raw) VALUES(?,?,?,?,?,?)\", parma)"
   ]
  },
  {
   "cell_type": "code",
   "execution_count": null,
   "metadata": {},
   "outputs": [],
   "source": [
    "db.commit()"
   ]
  },
  {
   "cell_type": "code",
   "execution_count": null,
   "metadata": {},
   "outputs": [],
   "source": [
    "parma=(\"_id\",29)\n",
    "parma[0]"
   ]
  },
  {
   "cell_type": "code",
   "execution_count": null,
   "metadata": {},
   "outputs": [],
   "source": [
    "pandas.read_sql(sql='SELECT * FROM '+table_name+\" WHERE \"+parma[0]+\"=?\", con=db, index_col='_id', params=(parma[1],))"
   ]
  },
  {
   "cell_type": "code",
   "execution_count": null,
   "metadata": {},
   "outputs": [],
   "source": [
    "pandas.read_sql(sql=\"DELETE FROM \"+table_name+\" WHERE \"+parma[0]+\"=?\", con=db, index_col='_id', params=(parma[1],))"
   ]
  },
  {
   "cell_type": "code",
   "execution_count": null,
   "metadata": {},
   "outputs": [],
   "source": [
    "pandas.read_sql(sql='SELECT * FROM '+table_name+\" WHERE \"+parma[0]+\"=?\", con=db, index_col='_id', params=(parma[1],))"
   ]
  },
  {
   "cell_type": "code",
   "execution_count": null,
   "metadata": {},
   "outputs": [],
   "source": [
    "df_data_read = pandas.read_sql(sql=\"SELECT * FROM \"+table_name+\" LIMIT 1\", con=db)\n",
    "df_data_read"
   ]
  },
  {
   "cell_type": "code",
   "execution_count": null,
   "metadata": {},
   "outputs": [],
   "source": [
    "df_data_read.columns"
   ]
  },
  {
   "cell_type": "code",
   "execution_count": null,
   "metadata": {},
   "outputs": [],
   "source": [
    "df_data_read.columns[0]"
   ]
  },
  {
   "cell_type": "code",
   "execution_count": null,
   "metadata": {},
   "outputs": [],
   "source": [
    "str(df_data_read.columns)"
   ]
  },
  {
   "cell_type": "code",
   "execution_count": null,
   "metadata": {},
   "outputs": [],
   "source": [
    "string = \"\"\n",
    "for col in df_data_read.columns:\n",
    "    string += col+\", \"\n",
    "string[:-2]"
   ]
  },
  {
   "cell_type": "code",
   "execution_count": null,
   "metadata": {},
   "outputs": [],
   "source": [
    "test_params={'_id': 29, 'user_id': 29, 'time': 29, 'text': \"sub_text\", 'snownlp_senta': 1.0, 'raw': \"str(comment)\"}\n",
    "test_params"
   ]
  },
  {
   "cell_type": "code",
   "execution_count": null,
   "metadata": {},
   "outputs": [],
   "source": [
    "string = \"\"\n",
    "for name in test_params.keys():\n",
    "    string += name+\", \"\n",
    "string[:-2]"
   ]
  },
  {
   "cell_type": "code",
   "execution_count": null,
   "metadata": {},
   "outputs": [],
   "source": [
    "ll=[]\n",
    "for value in test_params.values():\n",
    "    ll.append(value)\n",
    "ll"
   ]
  },
  {
   "cell_type": "code",
   "execution_count": null,
   "metadata": {},
   "outputs": [],
   "source": [
    "tuple(ll)"
   ]
  },
  {
   "cell_type": "code",
   "execution_count": null,
   "metadata": {},
   "outputs": [],
   "source": []
  },
  {
   "cell_type": "code",
   "execution_count": 4,
   "metadata": {},
   "outputs": [
    {
     "data": {
      "text/html": [
       "<div>\n",
       "<style scoped>\n",
       "    .dataframe tbody tr th:only-of-type {\n",
       "        vertical-align: middle;\n",
       "    }\n",
       "\n",
       "    .dataframe tbody tr th {\n",
       "        vertical-align: top;\n",
       "    }\n",
       "\n",
       "    .dataframe thead th {\n",
       "        text-align: right;\n",
       "    }\n",
       "</style>\n",
       "<table border=\"1\" class=\"dataframe\">\n",
       "  <thead>\n",
       "    <tr style=\"text-align: right;\">\n",
       "      <th></th>\n",
       "      <th>_id</th>\n",
       "      <th>user_id</th>\n",
       "      <th>time</th>\n",
       "      <th>text</th>\n",
       "      <th>snownlp_senta</th>\n",
       "      <th>raw</th>\n",
       "    </tr>\n",
       "  </thead>\n",
       "  <tbody>\n",
       "    <tr>\n",
       "      <th>0</th>\n",
       "      <td>150674658</td>\n",
       "      <td>5900568191</td>\n",
       "      <td>1591110042000</td>\n",
       "      <td>可能是中美关系的问题，可能是SEC的问题，也有可能是中国互联网公司处于自己战略考虑的问题，这...</td>\n",
       "      <td>1.000000</td>\n",
       "      <td>{'blocked': False, 'blocking': False, 'canEdit...</td>\n",
       "    </tr>\n",
       "    <tr>\n",
       "      <th>1</th>\n",
       "      <td>150674104</td>\n",
       "      <td>5455600901</td>\n",
       "      <td>1591109478000</td>\n",
       "      <td>01—传iPhone12将于7月开始量产据最新消息，iPhone的生产将在7月-8月开始量产...</td>\n",
       "      <td>1.000000</td>\n",
       "      <td>{'blocked': False, 'blocking': False, 'canEdit...</td>\n",
       "    </tr>\n",
       "    <tr>\n",
       "      <th>2</th>\n",
       "      <td>150674070</td>\n",
       "      <td>7372541564</td>\n",
       "      <td>1591109450000</td>\n",
       "      <td>聊聊长期价投的事。老朋友都知道，我新城是第三仓位，第一第二仓位是腾讯和小米，其中腾讯持股二年...</td>\n",
       "      <td>0.998728</td>\n",
       "      <td>{'blocked': False, 'blocking': False, 'canEdit...</td>\n",
       "    </tr>\n",
       "    <tr>\n",
       "      <th>3</th>\n",
       "      <td>150672385</td>\n",
       "      <td>9217330886</td>\n",
       "      <td>1591108085000</td>\n",
       "      <td>体验了能动口的，还要动手动；这动手的小动作已经不能忍了，人类到底是有多么的懒？在家办公，下午...</td>\n",
       "      <td>0.003171</td>\n",
       "      <td>{'blocked': False, 'blocking': False, 'canEdit...</td>\n",
       "    </tr>\n",
       "    <tr>\n",
       "      <th>4</th>\n",
       "      <td>150672074</td>\n",
       "      <td>7466959957</td>\n",
       "      <td>1591107872000</td>\n",
       "      <td>一图胜千言，手机卖不动，投资不太行，互联网服务耍流氓，小家电搞的不错</td>\n",
       "      <td>0.077329</td>\n",
       "      <td>{'blocked': False, 'blocking': False, 'canEdit...</td>\n",
       "    </tr>\n",
       "    <tr>\n",
       "      <th>...</th>\n",
       "      <td>...</td>\n",
       "      <td>...</td>\n",
       "      <td>...</td>\n",
       "      <td>...</td>\n",
       "      <td>...</td>\n",
       "      <td>...</td>\n",
       "    </tr>\n",
       "    <tr>\n",
       "      <th>6412</th>\n",
       "      <td>143055463</td>\n",
       "      <td>4029702207</td>\n",
       "      <td>1583428932000</td>\n",
       "      <td>哈哈， 这点用户数的尾货平台，也值七百亿呢。小米有品的用户成分还是偏单一了？要按唯品会为参照...</td>\n",
       "      <td>0.950800</td>\n",
       "      <td>{'id': 143055463, 'user_id': 4029702207, 'titl...</td>\n",
       "    </tr>\n",
       "    <tr>\n",
       "      <th>6413</th>\n",
       "      <td>143055325</td>\n",
       "      <td>5032736904</td>\n",
       "      <td>1583428631000</td>\n",
       "      <td>小米的股票值得买么这是我在其他网的一个答案更新一下，小米18年发布了空调，19年就卖到了10...</td>\n",
       "      <td>1.000000</td>\n",
       "      <td>{'id': 143055325, 'user_id': 5032736904, 'titl...</td>\n",
       "    </tr>\n",
       "    <tr>\n",
       "      <th>6414</th>\n",
       "      <td>143051525</td>\n",
       "      <td>4281679676</td>\n",
       "      <td>1583423489000</td>\n",
       "      <td>#facebook# ，马云联手100家银行，在金融圈引发震动！马云那句银行不改变，我们就改...</td>\n",
       "      <td>1.000000</td>\n",
       "      <td>{'id': 143051525, 'user_id': 4281679676, 'titl...</td>\n",
       "    </tr>\n",
       "    <tr>\n",
       "      <th>6415</th>\n",
       "      <td>143051046</td>\n",
       "      <td>4104510874</td>\n",
       "      <td>1583423092000</td>\n",
       "      <td>根据雷军在2018年提出的目标：10年营收增长10倍。跟这个算法，小米的年均要接近25%的...</td>\n",
       "      <td>1.000000</td>\n",
       "      <td>{'id': 143051046, 'user_id': 4104510874, 'titl...</td>\n",
       "    </tr>\n",
       "    <tr>\n",
       "      <th>6416</th>\n",
       "      <td>143047461</td>\n",
       "      <td>1330041231</td>\n",
       "      <td>1583420813000</td>\n",
       "      <td>产品性价比高一直是小米的标签，但是这也容易带来争议。争议一：性价比高影响企业利润，甚至有低价...</td>\n",
       "      <td>1.000000</td>\n",
       "      <td>{'id': 143047461, 'user_id': 1330041231, 'titl...</td>\n",
       "    </tr>\n",
       "  </tbody>\n",
       "</table>\n",
       "<p>6417 rows × 6 columns</p>\n",
       "</div>"
      ],
      "text/plain": [
       "            _id     user_id           time  \\\n",
       "0     150674658  5900568191  1591110042000   \n",
       "1     150674104  5455600901  1591109478000   \n",
       "2     150674070  7372541564  1591109450000   \n",
       "3     150672385  9217330886  1591108085000   \n",
       "4     150672074  7466959957  1591107872000   \n",
       "...         ...         ...            ...   \n",
       "6412  143055463  4029702207  1583428932000   \n",
       "6413  143055325  5032736904  1583428631000   \n",
       "6414  143051525  4281679676  1583423489000   \n",
       "6415  143051046  4104510874  1583423092000   \n",
       "6416  143047461  1330041231  1583420813000   \n",
       "\n",
       "                                                   text  snownlp_senta  \\\n",
       "0     可能是中美关系的问题，可能是SEC的问题，也有可能是中国互联网公司处于自己战略考虑的问题，这...       1.000000   \n",
       "1     01—传iPhone12将于7月开始量产据最新消息，iPhone的生产将在7月-8月开始量产...       1.000000   \n",
       "2     聊聊长期价投的事。老朋友都知道，我新城是第三仓位，第一第二仓位是腾讯和小米，其中腾讯持股二年...       0.998728   \n",
       "3     体验了能动口的，还要动手动；这动手的小动作已经不能忍了，人类到底是有多么的懒？在家办公，下午...       0.003171   \n",
       "4                    一图胜千言，手机卖不动，投资不太行，互联网服务耍流氓，小家电搞的不错       0.077329   \n",
       "...                                                 ...            ...   \n",
       "6412  哈哈， 这点用户数的尾货平台，也值七百亿呢。小米有品的用户成分还是偏单一了？要按唯品会为参照...       0.950800   \n",
       "6413  小米的股票值得买么这是我在其他网的一个答案更新一下，小米18年发布了空调，19年就卖到了10...       1.000000   \n",
       "6414  #facebook# ，马云联手100家银行，在金融圈引发震动！马云那句银行不改变，我们就改...       1.000000   \n",
       "6415   根据雷军在2018年提出的目标：10年营收增长10倍。跟这个算法，小米的年均要接近25%的...       1.000000   \n",
       "6416  产品性价比高一直是小米的标签，但是这也容易带来争议。争议一：性价比高影响企业利润，甚至有低价...       1.000000   \n",
       "\n",
       "                                                    raw  \n",
       "0     {'blocked': False, 'blocking': False, 'canEdit...  \n",
       "1     {'blocked': False, 'blocking': False, 'canEdit...  \n",
       "2     {'blocked': False, 'blocking': False, 'canEdit...  \n",
       "3     {'blocked': False, 'blocking': False, 'canEdit...  \n",
       "4     {'blocked': False, 'blocking': False, 'canEdit...  \n",
       "...                                                 ...  \n",
       "6412  {'id': 143055463, 'user_id': 4029702207, 'titl...  \n",
       "6413  {'id': 143055325, 'user_id': 5032736904, 'titl...  \n",
       "6414  {'id': 143051525, 'user_id': 4281679676, 'titl...  \n",
       "6415  {'id': 143051046, 'user_id': 4104510874, 'titl...  \n",
       "6416  {'id': 143047461, 'user_id': 1330041231, 'titl...  \n",
       "\n",
       "[6417 rows x 6 columns]"
      ]
     },
     "execution_count": 4,
     "metadata": {},
     "output_type": "execute_result"
    }
   ],
   "source": [
    "df_re = pandas.read_sql(sql='SELECT * FROM '+table_name, con=db)\n",
    "df_re"
   ]
  },
  {
   "cell_type": "code",
   "execution_count": 5,
   "metadata": {},
   "outputs": [
    {
     "data": {
      "text/html": [
       "<div>\n",
       "<style scoped>\n",
       "    .dataframe tbody tr th:only-of-type {\n",
       "        vertical-align: middle;\n",
       "    }\n",
       "\n",
       "    .dataframe tbody tr th {\n",
       "        vertical-align: top;\n",
       "    }\n",
       "\n",
       "    .dataframe thead th {\n",
       "        text-align: right;\n",
       "    }\n",
       "</style>\n",
       "<table border=\"1\" class=\"dataframe\">\n",
       "  <thead>\n",
       "    <tr style=\"text-align: right;\">\n",
       "      <th></th>\n",
       "      <th>0</th>\n",
       "      <th>1</th>\n",
       "      <th>2</th>\n",
       "      <th>3</th>\n",
       "      <th>4</th>\n",
       "      <th>5</th>\n",
       "    </tr>\n",
       "  </thead>\n",
       "  <tbody>\n",
       "    <tr>\n",
       "      <th>0</th>\n",
       "      <td>150674658</td>\n",
       "      <td>5900568191</td>\n",
       "      <td>1591110042000</td>\n",
       "      <td>可能是中美关系的问题，可能是SEC的问题，也有可能是中国互联网公司处于自己战略考虑的问题，这...</td>\n",
       "      <td>1.000000</td>\n",
       "      <td>{'blocked': False, 'blocking': False, 'canEdit...</td>\n",
       "    </tr>\n",
       "    <tr>\n",
       "      <th>1</th>\n",
       "      <td>150674104</td>\n",
       "      <td>5455600901</td>\n",
       "      <td>1591109478000</td>\n",
       "      <td>01—传iPhone12将于7月开始量产据最新消息，iPhone的生产将在7月-8月开始量产...</td>\n",
       "      <td>1.000000</td>\n",
       "      <td>{'blocked': False, 'blocking': False, 'canEdit...</td>\n",
       "    </tr>\n",
       "    <tr>\n",
       "      <th>2</th>\n",
       "      <td>150674070</td>\n",
       "      <td>7372541564</td>\n",
       "      <td>1591109450000</td>\n",
       "      <td>聊聊长期价投的事。老朋友都知道，我新城是第三仓位，第一第二仓位是腾讯和小米，其中腾讯持股二年...</td>\n",
       "      <td>0.998728</td>\n",
       "      <td>{'blocked': False, 'blocking': False, 'canEdit...</td>\n",
       "    </tr>\n",
       "    <tr>\n",
       "      <th>3</th>\n",
       "      <td>150672385</td>\n",
       "      <td>9217330886</td>\n",
       "      <td>1591108085000</td>\n",
       "      <td>体验了能动口的，还要动手动；这动手的小动作已经不能忍了，人类到底是有多么的懒？在家办公，下午...</td>\n",
       "      <td>0.003171</td>\n",
       "      <td>{'blocked': False, 'blocking': False, 'canEdit...</td>\n",
       "    </tr>\n",
       "    <tr>\n",
       "      <th>4</th>\n",
       "      <td>150672074</td>\n",
       "      <td>7466959957</td>\n",
       "      <td>1591107872000</td>\n",
       "      <td>一图胜千言，手机卖不动，投资不太行，互联网服务耍流氓，小家电搞的不错</td>\n",
       "      <td>0.077329</td>\n",
       "      <td>{'blocked': False, 'blocking': False, 'canEdit...</td>\n",
       "    </tr>\n",
       "    <tr>\n",
       "      <th>...</th>\n",
       "      <td>...</td>\n",
       "      <td>...</td>\n",
       "      <td>...</td>\n",
       "      <td>...</td>\n",
       "      <td>...</td>\n",
       "      <td>...</td>\n",
       "    </tr>\n",
       "    <tr>\n",
       "      <th>6412</th>\n",
       "      <td>143055463</td>\n",
       "      <td>4029702207</td>\n",
       "      <td>1583428932000</td>\n",
       "      <td>哈哈， 这点用户数的尾货平台，也值七百亿呢。小米有品的用户成分还是偏单一了？要按唯品会为参照...</td>\n",
       "      <td>0.950800</td>\n",
       "      <td>{'id': 143055463, 'user_id': 4029702207, 'titl...</td>\n",
       "    </tr>\n",
       "    <tr>\n",
       "      <th>6413</th>\n",
       "      <td>143055325</td>\n",
       "      <td>5032736904</td>\n",
       "      <td>1583428631000</td>\n",
       "      <td>小米的股票值得买么这是我在其他网的一个答案更新一下，小米18年发布了空调，19年就卖到了10...</td>\n",
       "      <td>1.000000</td>\n",
       "      <td>{'id': 143055325, 'user_id': 5032736904, 'titl...</td>\n",
       "    </tr>\n",
       "    <tr>\n",
       "      <th>6414</th>\n",
       "      <td>143051525</td>\n",
       "      <td>4281679676</td>\n",
       "      <td>1583423489000</td>\n",
       "      <td>#facebook# ，马云联手100家银行，在金融圈引发震动！马云那句银行不改变，我们就改...</td>\n",
       "      <td>1.000000</td>\n",
       "      <td>{'id': 143051525, 'user_id': 4281679676, 'titl...</td>\n",
       "    </tr>\n",
       "    <tr>\n",
       "      <th>6415</th>\n",
       "      <td>143051046</td>\n",
       "      <td>4104510874</td>\n",
       "      <td>1583423092000</td>\n",
       "      <td>根据雷军在2018年提出的目标：10年营收增长10倍。跟这个算法，小米的年均要接近25%的...</td>\n",
       "      <td>1.000000</td>\n",
       "      <td>{'id': 143051046, 'user_id': 4104510874, 'titl...</td>\n",
       "    </tr>\n",
       "    <tr>\n",
       "      <th>6416</th>\n",
       "      <td>143047461</td>\n",
       "      <td>1330041231</td>\n",
       "      <td>1583420813000</td>\n",
       "      <td>产品性价比高一直是小米的标签，但是这也容易带来争议。争议一：性价比高影响企业利润，甚至有低价...</td>\n",
       "      <td>1.000000</td>\n",
       "      <td>{'id': 143047461, 'user_id': 1330041231, 'titl...</td>\n",
       "    </tr>\n",
       "  </tbody>\n",
       "</table>\n",
       "<p>6417 rows × 6 columns</p>\n",
       "</div>"
      ],
      "text/plain": [
       "              0           1              2  \\\n",
       "0     150674658  5900568191  1591110042000   \n",
       "1     150674104  5455600901  1591109478000   \n",
       "2     150674070  7372541564  1591109450000   \n",
       "3     150672385  9217330886  1591108085000   \n",
       "4     150672074  7466959957  1591107872000   \n",
       "...         ...         ...            ...   \n",
       "6412  143055463  4029702207  1583428932000   \n",
       "6413  143055325  5032736904  1583428631000   \n",
       "6414  143051525  4281679676  1583423489000   \n",
       "6415  143051046  4104510874  1583423092000   \n",
       "6416  143047461  1330041231  1583420813000   \n",
       "\n",
       "                                                      3         4  \\\n",
       "0     可能是中美关系的问题，可能是SEC的问题，也有可能是中国互联网公司处于自己战略考虑的问题，这...  1.000000   \n",
       "1     01—传iPhone12将于7月开始量产据最新消息，iPhone的生产将在7月-8月开始量产...  1.000000   \n",
       "2     聊聊长期价投的事。老朋友都知道，我新城是第三仓位，第一第二仓位是腾讯和小米，其中腾讯持股二年...  0.998728   \n",
       "3     体验了能动口的，还要动手动；这动手的小动作已经不能忍了，人类到底是有多么的懒？在家办公，下午...  0.003171   \n",
       "4                    一图胜千言，手机卖不动，投资不太行，互联网服务耍流氓，小家电搞的不错  0.077329   \n",
       "...                                                 ...       ...   \n",
       "6412  哈哈， 这点用户数的尾货平台，也值七百亿呢。小米有品的用户成分还是偏单一了？要按唯品会为参照...  0.950800   \n",
       "6413  小米的股票值得买么这是我在其他网的一个答案更新一下，小米18年发布了空调，19年就卖到了10...  1.000000   \n",
       "6414  #facebook# ，马云联手100家银行，在金融圈引发震动！马云那句银行不改变，我们就改...  1.000000   \n",
       "6415   根据雷军在2018年提出的目标：10年营收增长10倍。跟这个算法，小米的年均要接近25%的...  1.000000   \n",
       "6416  产品性价比高一直是小米的标签，但是这也容易带来争议。争议一：性价比高影响企业利润，甚至有低价...  1.000000   \n",
       "\n",
       "                                                      5  \n",
       "0     {'blocked': False, 'blocking': False, 'canEdit...  \n",
       "1     {'blocked': False, 'blocking': False, 'canEdit...  \n",
       "2     {'blocked': False, 'blocking': False, 'canEdit...  \n",
       "3     {'blocked': False, 'blocking': False, 'canEdit...  \n",
       "4     {'blocked': False, 'blocking': False, 'canEdit...  \n",
       "...                                                 ...  \n",
       "6412  {'id': 143055463, 'user_id': 4029702207, 'titl...  \n",
       "6413  {'id': 143055325, 'user_id': 5032736904, 'titl...  \n",
       "6414  {'id': 143051525, 'user_id': 4281679676, 'titl...  \n",
       "6415  {'id': 143051046, 'user_id': 4104510874, 'titl...  \n",
       "6416  {'id': 143047461, 'user_id': 1330041231, 'titl...  \n",
       "\n",
       "[6417 rows x 6 columns]"
      ]
     },
     "execution_count": 5,
     "metadata": {},
     "output_type": "execute_result"
    }
   ],
   "source": [
    "pandas.DataFrame(list(df_re.to_numpy()))"
   ]
  },
  {
   "cell_type": "code",
   "execution_count": 8,
   "metadata": {},
   "outputs": [
    {
     "data": {
      "text/html": [
       "<div>\n",
       "<style scoped>\n",
       "    .dataframe tbody tr th:only-of-type {\n",
       "        vertical-align: middle;\n",
       "    }\n",
       "\n",
       "    .dataframe tbody tr th {\n",
       "        vertical-align: top;\n",
       "    }\n",
       "\n",
       "    .dataframe thead th {\n",
       "        text-align: right;\n",
       "    }\n",
       "</style>\n",
       "<table border=\"1\" class=\"dataframe\">\n",
       "  <thead>\n",
       "    <tr style=\"text-align: right;\">\n",
       "      <th></th>\n",
       "      <th>0</th>\n",
       "    </tr>\n",
       "  </thead>\n",
       "  <tbody>\n",
       "    <tr>\n",
       "      <th>0</th>\n",
       "      <td>_id</td>\n",
       "    </tr>\n",
       "    <tr>\n",
       "      <th>1</th>\n",
       "      <td>user_id</td>\n",
       "    </tr>\n",
       "    <tr>\n",
       "      <th>2</th>\n",
       "      <td>time</td>\n",
       "    </tr>\n",
       "    <tr>\n",
       "      <th>3</th>\n",
       "      <td>text</td>\n",
       "    </tr>\n",
       "    <tr>\n",
       "      <th>4</th>\n",
       "      <td>snownlp_senta</td>\n",
       "    </tr>\n",
       "    <tr>\n",
       "      <th>...</th>\n",
       "      <td>...</td>\n",
       "    </tr>\n",
       "    <tr>\n",
       "      <th>6418</th>\n",
       "      <td>[143055463, 4029702207, 1583428932000, 哈哈， 这点用...</td>\n",
       "    </tr>\n",
       "    <tr>\n",
       "      <th>6419</th>\n",
       "      <td>[143055325, 5032736904, 1583428631000, 小米的股票值得...</td>\n",
       "    </tr>\n",
       "    <tr>\n",
       "      <th>6420</th>\n",
       "      <td>[143051525, 4281679676, 1583423489000, #facebo...</td>\n",
       "    </tr>\n",
       "    <tr>\n",
       "      <th>6421</th>\n",
       "      <td>[143051046, 4104510874, 1583423092000,  根据雷军在2...</td>\n",
       "    </tr>\n",
       "    <tr>\n",
       "      <th>6422</th>\n",
       "      <td>[143047461, 1330041231, 1583420813000, 产品性价比高一...</td>\n",
       "    </tr>\n",
       "  </tbody>\n",
       "</table>\n",
       "<p>6423 rows × 1 columns</p>\n",
       "</div>"
      ],
      "text/plain": [
       "                                                      0\n",
       "0                                                   _id\n",
       "1                                               user_id\n",
       "2                                                  time\n",
       "3                                                  text\n",
       "4                                         snownlp_senta\n",
       "...                                                 ...\n",
       "6418  [143055463, 4029702207, 1583428932000, 哈哈， 这点用...\n",
       "6419  [143055325, 5032736904, 1583428631000, 小米的股票值得...\n",
       "6420  [143051525, 4281679676, 1583423489000, #facebo...\n",
       "6421  [143051046, 4104510874, 1583423092000,  根据雷军在2...\n",
       "6422  [143047461, 1330041231, 1583420813000, 产品性价比高一...\n",
       "\n",
       "[6423 rows x 1 columns]"
      ]
     },
     "execution_count": 8,
     "metadata": {},
     "output_type": "execute_result"
    }
   ],
   "source": [
    "pandas.DataFrame(list(df_re.to_dict())+list(df_re.to_numpy()))"
   ]
  },
  {
   "cell_type": "code",
   "execution_count": 5,
   "metadata": {},
   "outputs": [
    {
     "data": {
      "text/html": [
       "<div>\n",
       "<style scoped>\n",
       "    .dataframe tbody tr th:only-of-type {\n",
       "        vertical-align: middle;\n",
       "    }\n",
       "\n",
       "    .dataframe tbody tr th {\n",
       "        vertical-align: top;\n",
       "    }\n",
       "\n",
       "    .dataframe thead th {\n",
       "        text-align: right;\n",
       "    }\n",
       "</style>\n",
       "<table border=\"1\" class=\"dataframe\">\n",
       "  <thead>\n",
       "    <tr style=\"text-align: right;\">\n",
       "      <th></th>\n",
       "      <th>_id</th>\n",
       "      <th>user_id</th>\n",
       "      <th>time</th>\n",
       "      <th>text</th>\n",
       "      <th>snownlp_senta</th>\n",
       "      <th>raw</th>\n",
       "    </tr>\n",
       "  </thead>\n",
       "  <tbody>\n",
       "    <tr>\n",
       "      <th>0</th>\n",
       "      <td>150674658</td>\n",
       "      <td>5900568191</td>\n",
       "      <td>1591110042000</td>\n",
       "      <td>可能是中美关系的问题，可能是SEC的问题，也有可能是中国互联网公司处于自己战略考虑的问题，这...</td>\n",
       "      <td>1.0</td>\n",
       "      <td>{'blocked': False, 'blocking': False, 'canEdit...</td>\n",
       "    </tr>\n",
       "  </tbody>\n",
       "</table>\n",
       "</div>"
      ],
      "text/plain": [
       "         _id     user_id           time  \\\n",
       "0  150674658  5900568191  1591110042000   \n",
       "\n",
       "                                                text  snownlp_senta  \\\n",
       "0  可能是中美关系的问题，可能是SEC的问题，也有可能是中国互联网公司处于自己战略考虑的问题，这...            1.0   \n",
       "\n",
       "                                                 raw  \n",
       "0  {'blocked': False, 'blocking': False, 'canEdit...  "
      ]
     },
     "execution_count": 5,
     "metadata": {},
     "output_type": "execute_result"
    }
   ],
   "source": [
    "df_re = pandas.read_sql(sql='SELECT * FROM '+table_name+\" LIMIT 1\", con=db)\n",
    "df_re"
   ]
  },
  {
   "cell_type": "code",
   "execution_count": 11,
   "metadata": {},
   "outputs": [
    {
     "data": {
      "text/plain": [
       "'可能是中美关系的问题，可能是SEC的问题，也有可能是中国互联网公司处于自己战略考虑的问题，这些中概股都纷纷回归港股。腾讯、美团、小米这些不用说，是直接在港股上市的，而阿里巴巴、网易、京东最近也都纷纷回归港股，据说拼多多也有可能会回归港股。而网易的回归已经倒计时了，预计6月11日开始正式登陆港股。按照公开数据，网易将在香港公开发行1.715亿股新普通股，发售价上限为126港元/股，代码为“09999.HK”。在香港上市后，公司股票将与在纳斯达克上市的美国存托凭证（ADS）完全可互换。我对网易这个公司的看法一直比较正面，丁磊是一个非常精明且有大格局的浙江企业家。正如丁磊公开信说的一样，网易这些年一直在用心做产品，无论是网易邮箱、网易新闻、网易有道、网易音乐、网易考拉、网易云等等很多产品都是非常出色的，特别是网易音乐，后来居上，目前也是跟腾讯音乐一起成为最出色的音乐在线巨头。网易从2000年到现在，已经经历了20年，这20年，网易几乎陪伴了一代、两代互联网人，几乎所有的70后、80后、90后，以及现在的00后，应该都有用过网易的产品。网易从1G、2G到现在的4G，以及即将到来的5G，网易一直没有落后，网易一直创新，一直跟随。从当年的三大门户网站的现状我们就会发现，只有网易一直在成长，新浪现在的市值已经只有网易的3%了，搜狐更是只有网易市值的0.5%。而网易现在不仅自己市值很高，其孕育的关联企业网易有道、网易云音乐，网易考拉等也都做的很好。对比发现新浪目前只有一个微博，而搜狐只有一个搜狗，但搜狗大股东已经不再是搜狐，且搜狗本身市值也很小。对比才会发现网易的出色。这里面最重要的还是管理层团队。所以我们说投资一定要看管理层，原因就在这里，管理层对一个公司有着异常强大的作用。前段时间我们看雷军也发现了这样的特点，雷军这些年已经逐步走向一个优秀的管理人投资人，他的一些思想、一些格局已经让他可以撑得起整个小米以及金山的很多企业。并不是每个管理层都有这样的格局：而网易的丁磊前段时间也发布了致股东的信《相信热爱的力量》：我们最近看到的一些争夺股权的公司，比方说大亚圣象、皖通科技，本身就是管理层巨大的管理缺失问题，才会使得企业经营出现巨大的问题。而你去看像雷军、马云、丁磊这样的创始人从来都不会有这么些问题，而且本身其格局会使得身边有非常多的追随者，而且他们从来也都是很慷慨大方给予股权激励，积极引进外部投资者，做大做强公司。而网易更是被很多互联网人成为互联网黄埔军校，可见网易对于人才的培养真的做的非常好。这方面我们看搜狐的张朝阳就差远了。很多人离开搜狐做的更好，在搜狐却没有平台，这更突显了张朝阳的管理水平。而现在百度也朝着搜狐的方向在走，李彦宏的管理水平也一定程度上有一些缺失。所以投资我们看两件事情：一个是好的赛道，一个是优秀的管理层。这些事情都需要一段时间的观察与积累，不能说马上就可以看出来管理层是好是坏。而我们通过这两件事情其实我们会发现，小米仍旧是一个好公司，未来的小米集团不可限量。而网易仍旧没有天花板，网易还会做出更多更优秀的产品。根据马太效应，强者恒强。这一波这些优秀的中概股的回归港股，是好事情。别看这些企业现在市值很大，未来可能市值会越来越大，我们拭目以待。各位晚安。万水千山总是情，点个在看行不行。感谢支持。   @今日话题 欢迎关注公众号：柳叶刀财经。'"
      ]
     },
     "execution_count": 11,
     "metadata": {},
     "output_type": "execute_result"
    }
   ],
   "source": [
    "df_re['text'][0]"
   ]
  },
  {
   "cell_type": "code",
   "execution_count": 12,
   "metadata": {},
   "outputs": [
    {
     "data": {
      "text/plain": [
       "str"
      ]
     },
     "execution_count": 12,
     "metadata": {},
     "output_type": "execute_result"
    }
   ],
   "source": [
    "type(df_re['text'][0])"
   ]
  },
  {
   "cell_type": "code",
   "execution_count": 8,
   "metadata": {},
   "outputs": [
    {
     "data": {
      "text/plain": [
       "{0: '可能是中美关系的问题，可能是SEC的问题，也有可能是中国互联网公司处于自己战略考虑的问题，这些中概股都纷纷回归港股。腾讯、美团、小米这些不用说，是直接在港股上市的，而阿里巴巴、网易、京东最近也都纷纷回归港股，据说拼多多也有可能会回归港股。而网易的回归已经倒计时了，预计6月11日开始正式登陆港股。按照公开数据，网易将在香港公开发行1.715亿股新普通股，发售价上限为126港元/股，代码为“09999.HK”。在香港上市后，公司股票将与在纳斯达克上市的美国存托凭证（ADS）完全可互换。我对网易这个公司的看法一直比较正面，丁磊是一个非常精明且有大格局的浙江企业家。正如丁磊公开信说的一样，网易这些年一直在用心做产品，无论是网易邮箱、网易新闻、网易有道、网易音乐、网易考拉、网易云等等很多产品都是非常出色的，特别是网易音乐，后来居上，目前也是跟腾讯音乐一起成为最出色的音乐在线巨头。网易从2000年到现在，已经经历了20年，这20年，网易几乎陪伴了一代、两代互联网人，几乎所有的70后、80后、90后，以及现在的00后，应该都有用过网易的产品。网易从1G、2G到现在的4G，以及即将到来的5G，网易一直没有落后，网易一直创新，一直跟随。从当年的三大门户网站的现状我们就会发现，只有网易一直在成长，新浪现在的市值已经只有网易的3%了，搜狐更是只有网易市值的0.5%。而网易现在不仅自己市值很高，其孕育的关联企业网易有道、网易云音乐，网易考拉等也都做的很好。对比发现新浪目前只有一个微博，而搜狐只有一个搜狗，但搜狗大股东已经不再是搜狐，且搜狗本身市值也很小。对比才会发现网易的出色。这里面最重要的还是管理层团队。所以我们说投资一定要看管理层，原因就在这里，管理层对一个公司有着异常强大的作用。前段时间我们看雷军也发现了这样的特点，雷军这些年已经逐步走向一个优秀的管理人投资人，他的一些思想、一些格局已经让他可以撑得起整个小米以及金山的很多企业。并不是每个管理层都有这样的格局：而网易的丁磊前段时间也发布了致股东的信《相信热爱的力量》：我们最近看到的一些争夺股权的公司，比方说大亚圣象、皖通科技，本身就是管理层巨大的管理缺失问题，才会使得企业经营出现巨大的问题。而你去看像雷军、马云、丁磊这样的创始人从来都不会有这么些问题，而且本身其格局会使得身边有非常多的追随者，而且他们从来也都是很慷慨大方给予股权激励，积极引进外部投资者，做大做强公司。而网易更是被很多互联网人成为互联网黄埔军校，可见网易对于人才的培养真的做的非常好。这方面我们看搜狐的张朝阳就差远了。很多人离开搜狐做的更好，在搜狐却没有平台，这更突显了张朝阳的管理水平。而现在百度也朝着搜狐的方向在走，李彦宏的管理水平也一定程度上有一些缺失。所以投资我们看两件事情：一个是好的赛道，一个是优秀的管理层。这些事情都需要一段时间的观察与积累，不能说马上就可以看出来管理层是好是坏。而我们通过这两件事情其实我们会发现，小米仍旧是一个好公司，未来的小米集团不可限量。而网易仍旧没有天花板，网易还会做出更多更优秀的产品。根据马太效应，强者恒强。这一波这些优秀的中概股的回归港股，是好事情。别看这些企业现在市值很大，未来可能市值会越来越大，我们拭目以待。各位晚安。万水千山总是情，点个在看行不行。感谢支持。   @今日话题 欢迎关注公众号：柳叶刀财经。'}"
      ]
     },
     "execution_count": 8,
     "metadata": {},
     "output_type": "execute_result"
    }
   ],
   "source": [
    "df_re.to_dict()['text']"
   ]
  },
  {
   "cell_type": "code",
   "execution_count": 9,
   "metadata": {},
   "outputs": [
    {
     "data": {
      "text/plain": [
       "dict"
      ]
     },
     "execution_count": 9,
     "metadata": {},
     "output_type": "execute_result"
    }
   ],
   "source": [
    "type(df_re.to_dict()['text'])"
   ]
  },
  {
   "cell_type": "code",
   "execution_count": 13,
   "metadata": {},
   "outputs": [
    {
     "data": {
      "text/plain": [
       "_id                                                      150674658\n",
       "user_id                                                 5900568191\n",
       "time                                                 1591110042000\n",
       "text             可能是中美关系的问题，可能是SEC的问题，也有可能是中国互联网公司处于自己战略考虑的问题，这...\n",
       "snownlp_senta                                                    1\n",
       "raw              {'blocked': False, 'blocking': False, 'canEdit...\n",
       "Name: 0, dtype: object"
      ]
     },
     "execution_count": 13,
     "metadata": {},
     "output_type": "execute_result"
    }
   ],
   "source": [
    "df_re.iloc[0]"
   ]
  },
  {
   "cell_type": "code",
   "execution_count": 14,
   "metadata": {},
   "outputs": [
    {
     "data": {
      "text/plain": [
       "pandas.core.series.Series"
      ]
     },
     "execution_count": 14,
     "metadata": {},
     "output_type": "execute_result"
    }
   ],
   "source": [
    "type(df_re.iloc[0])"
   ]
  },
  {
   "cell_type": "code",
   "execution_count": 15,
   "metadata": {},
   "outputs": [
    {
     "data": {
      "text/plain": [
       "'可能是中美关系的问题，可能是SEC的问题，也有可能是中国互联网公司处于自己战略考虑的问题，这些中概股都纷纷回归港股。腾讯、美团、小米这些不用说，是直接在港股上市的，而阿里巴巴、网易、京东最近也都纷纷回归港股，据说拼多多也有可能会回归港股。而网易的回归已经倒计时了，预计6月11日开始正式登陆港股。按照公开数据，网易将在香港公开发行1.715亿股新普通股，发售价上限为126港元/股，代码为“09999.HK”。在香港上市后，公司股票将与在纳斯达克上市的美国存托凭证（ADS）完全可互换。我对网易这个公司的看法一直比较正面，丁磊是一个非常精明且有大格局的浙江企业家。正如丁磊公开信说的一样，网易这些年一直在用心做产品，无论是网易邮箱、网易新闻、网易有道、网易音乐、网易考拉、网易云等等很多产品都是非常出色的，特别是网易音乐，后来居上，目前也是跟腾讯音乐一起成为最出色的音乐在线巨头。网易从2000年到现在，已经经历了20年，这20年，网易几乎陪伴了一代、两代互联网人，几乎所有的70后、80后、90后，以及现在的00后，应该都有用过网易的产品。网易从1G、2G到现在的4G，以及即将到来的5G，网易一直没有落后，网易一直创新，一直跟随。从当年的三大门户网站的现状我们就会发现，只有网易一直在成长，新浪现在的市值已经只有网易的3%了，搜狐更是只有网易市值的0.5%。而网易现在不仅自己市值很高，其孕育的关联企业网易有道、网易云音乐，网易考拉等也都做的很好。对比发现新浪目前只有一个微博，而搜狐只有一个搜狗，但搜狗大股东已经不再是搜狐，且搜狗本身市值也很小。对比才会发现网易的出色。这里面最重要的还是管理层团队。所以我们说投资一定要看管理层，原因就在这里，管理层对一个公司有着异常强大的作用。前段时间我们看雷军也发现了这样的特点，雷军这些年已经逐步走向一个优秀的管理人投资人，他的一些思想、一些格局已经让他可以撑得起整个小米以及金山的很多企业。并不是每个管理层都有这样的格局：而网易的丁磊前段时间也发布了致股东的信《相信热爱的力量》：我们最近看到的一些争夺股权的公司，比方说大亚圣象、皖通科技，本身就是管理层巨大的管理缺失问题，才会使得企业经营出现巨大的问题。而你去看像雷军、马云、丁磊这样的创始人从来都不会有这么些问题，而且本身其格局会使得身边有非常多的追随者，而且他们从来也都是很慷慨大方给予股权激励，积极引进外部投资者，做大做强公司。而网易更是被很多互联网人成为互联网黄埔军校，可见网易对于人才的培养真的做的非常好。这方面我们看搜狐的张朝阳就差远了。很多人离开搜狐做的更好，在搜狐却没有平台，这更突显了张朝阳的管理水平。而现在百度也朝着搜狐的方向在走，李彦宏的管理水平也一定程度上有一些缺失。所以投资我们看两件事情：一个是好的赛道，一个是优秀的管理层。这些事情都需要一段时间的观察与积累，不能说马上就可以看出来管理层是好是坏。而我们通过这两件事情其实我们会发现，小米仍旧是一个好公司，未来的小米集团不可限量。而网易仍旧没有天花板，网易还会做出更多更优秀的产品。根据马太效应，强者恒强。这一波这些优秀的中概股的回归港股，是好事情。别看这些企业现在市值很大，未来可能市值会越来越大，我们拭目以待。各位晚安。万水千山总是情，点个在看行不行。感谢支持。   @今日话题 欢迎关注公众号：柳叶刀财经。'"
      ]
     },
     "execution_count": 15,
     "metadata": {},
     "output_type": "execute_result"
    }
   ],
   "source": [
    "df_re.iloc[0]['text']"
   ]
  },
  {
   "cell_type": "code",
   "execution_count": 16,
   "metadata": {},
   "outputs": [
    {
     "data": {
      "text/plain": [
       "str"
      ]
     },
     "execution_count": 16,
     "metadata": {},
     "output_type": "execute_result"
    }
   ],
   "source": [
    "type(df_re.iloc[0]['text'])"
   ]
  },
  {
   "cell_type": "code",
   "execution_count": null,
   "metadata": {},
   "outputs": [],
   "source": []
  },
  {
   "cell_type": "code",
   "execution_count": null,
   "metadata": {},
   "outputs": [],
   "source": []
  },
  {
   "cell_type": "code",
   "execution_count": null,
   "metadata": {},
   "outputs": [],
   "source": []
  },
  {
   "cell_type": "code",
   "execution_count": null,
   "metadata": {},
   "outputs": [],
   "source": []
  },
  {
   "cell_type": "code",
   "execution_count": 17,
   "metadata": {},
   "outputs": [],
   "source": [
    "from DATABASE import DataBaseFactory"
   ]
  },
  {
   "cell_type": "code",
   "execution_count": 18,
   "metadata": {},
   "outputs": [],
   "source": [
    "dataSheet = DataBaseFactory(\n",
    "        database_name=\"xueqiu\", sheet_name=\"comments\", model=\"sqlite3\")"
   ]
  },
  {
   "cell_type": "code",
   "execution_count": 26,
   "metadata": {},
   "outputs": [
    {
     "data": {
      "text/plain": [
       "numpy.ndarray"
      ]
     },
     "execution_count": 26,
     "metadata": {},
     "output_type": "execute_result"
    }
   ],
   "source": [
    "type(dataSheet.find(sort=[('_id', -1)]))"
   ]
  },
  {
   "cell_type": "code",
   "execution_count": 24,
   "metadata": {},
   "outputs": [
    {
     "data": {
      "text/html": [
       "<div>\n",
       "<style scoped>\n",
       "    .dataframe tbody tr th:only-of-type {\n",
       "        vertical-align: middle;\n",
       "    }\n",
       "\n",
       "    .dataframe tbody tr th {\n",
       "        vertical-align: top;\n",
       "    }\n",
       "\n",
       "    .dataframe thead th {\n",
       "        text-align: right;\n",
       "    }\n",
       "</style>\n",
       "<table border=\"1\" class=\"dataframe\">\n",
       "  <thead>\n",
       "    <tr style=\"text-align: right;\">\n",
       "      <th></th>\n",
       "      <th>0</th>\n",
       "      <th>1</th>\n",
       "      <th>2</th>\n",
       "      <th>3</th>\n",
       "      <th>4</th>\n",
       "      <th>5</th>\n",
       "    </tr>\n",
       "  </thead>\n",
       "  <tbody>\n",
       "    <tr>\n",
       "      <th>0</th>\n",
       "      <td>150674658</td>\n",
       "      <td>5900568191</td>\n",
       "      <td>1591110042000</td>\n",
       "      <td>可能是中美关系的问题，可能是SEC的问题，也有可能是中国互联网公司处于自己战略考虑的问题，这...</td>\n",
       "      <td>1.000000</td>\n",
       "      <td>{'blocked': False, 'blocking': False, 'canEdit...</td>\n",
       "    </tr>\n",
       "    <tr>\n",
       "      <th>1</th>\n",
       "      <td>150674104</td>\n",
       "      <td>5455600901</td>\n",
       "      <td>1591109478000</td>\n",
       "      <td>01—传iPhone12将于7月开始量产据最新消息，iPhone的生产将在7月-8月开始量产...</td>\n",
       "      <td>1.000000</td>\n",
       "      <td>{'blocked': False, 'blocking': False, 'canEdit...</td>\n",
       "    </tr>\n",
       "    <tr>\n",
       "      <th>2</th>\n",
       "      <td>150674070</td>\n",
       "      <td>7372541564</td>\n",
       "      <td>1591109450000</td>\n",
       "      <td>聊聊长期价投的事。老朋友都知道，我新城是第三仓位，第一第二仓位是腾讯和小米，其中腾讯持股二年...</td>\n",
       "      <td>0.998728</td>\n",
       "      <td>{'blocked': False, 'blocking': False, 'canEdit...</td>\n",
       "    </tr>\n",
       "    <tr>\n",
       "      <th>3</th>\n",
       "      <td>150672385</td>\n",
       "      <td>9217330886</td>\n",
       "      <td>1591108085000</td>\n",
       "      <td>体验了能动口的，还要动手动；这动手的小动作已经不能忍了，人类到底是有多么的懒？在家办公，下午...</td>\n",
       "      <td>0.003171</td>\n",
       "      <td>{'blocked': False, 'blocking': False, 'canEdit...</td>\n",
       "    </tr>\n",
       "    <tr>\n",
       "      <th>4</th>\n",
       "      <td>150672074</td>\n",
       "      <td>7466959957</td>\n",
       "      <td>1591107872000</td>\n",
       "      <td>一图胜千言，手机卖不动，投资不太行，互联网服务耍流氓，小家电搞的不错</td>\n",
       "      <td>0.077329</td>\n",
       "      <td>{'blocked': False, 'blocking': False, 'canEdit...</td>\n",
       "    </tr>\n",
       "    <tr>\n",
       "      <th>...</th>\n",
       "      <td>...</td>\n",
       "      <td>...</td>\n",
       "      <td>...</td>\n",
       "      <td>...</td>\n",
       "      <td>...</td>\n",
       "      <td>...</td>\n",
       "    </tr>\n",
       "    <tr>\n",
       "      <th>6412</th>\n",
       "      <td>143055463</td>\n",
       "      <td>4029702207</td>\n",
       "      <td>1583428932000</td>\n",
       "      <td>哈哈， 这点用户数的尾货平台，也值七百亿呢。小米有品的用户成分还是偏单一了？要按唯品会为参照...</td>\n",
       "      <td>0.950800</td>\n",
       "      <td>{'id': 143055463, 'user_id': 4029702207, 'titl...</td>\n",
       "    </tr>\n",
       "    <tr>\n",
       "      <th>6413</th>\n",
       "      <td>143055325</td>\n",
       "      <td>5032736904</td>\n",
       "      <td>1583428631000</td>\n",
       "      <td>小米的股票值得买么这是我在其他网的一个答案更新一下，小米18年发布了空调，19年就卖到了10...</td>\n",
       "      <td>1.000000</td>\n",
       "      <td>{'id': 143055325, 'user_id': 5032736904, 'titl...</td>\n",
       "    </tr>\n",
       "    <tr>\n",
       "      <th>6414</th>\n",
       "      <td>143051525</td>\n",
       "      <td>4281679676</td>\n",
       "      <td>1583423489000</td>\n",
       "      <td>#facebook# ，马云联手100家银行，在金融圈引发震动！马云那句银行不改变，我们就改...</td>\n",
       "      <td>1.000000</td>\n",
       "      <td>{'id': 143051525, 'user_id': 4281679676, 'titl...</td>\n",
       "    </tr>\n",
       "    <tr>\n",
       "      <th>6415</th>\n",
       "      <td>143051046</td>\n",
       "      <td>4104510874</td>\n",
       "      <td>1583423092000</td>\n",
       "      <td>根据雷军在2018年提出的目标：10年营收增长10倍。跟这个算法，小米的年均要接近25%的...</td>\n",
       "      <td>1.000000</td>\n",
       "      <td>{'id': 143051046, 'user_id': 4104510874, 'titl...</td>\n",
       "    </tr>\n",
       "    <tr>\n",
       "      <th>6416</th>\n",
       "      <td>143047461</td>\n",
       "      <td>1330041231</td>\n",
       "      <td>1583420813000</td>\n",
       "      <td>产品性价比高一直是小米的标签，但是这也容易带来争议。争议一：性价比高影响企业利润，甚至有低价...</td>\n",
       "      <td>1.000000</td>\n",
       "      <td>{'id': 143047461, 'user_id': 1330041231, 'titl...</td>\n",
       "    </tr>\n",
       "  </tbody>\n",
       "</table>\n",
       "<p>6417 rows × 6 columns</p>\n",
       "</div>"
      ],
      "text/plain": [
       "              0           1              2  \\\n",
       "0     150674658  5900568191  1591110042000   \n",
       "1     150674104  5455600901  1591109478000   \n",
       "2     150674070  7372541564  1591109450000   \n",
       "3     150672385  9217330886  1591108085000   \n",
       "4     150672074  7466959957  1591107872000   \n",
       "...         ...         ...            ...   \n",
       "6412  143055463  4029702207  1583428932000   \n",
       "6413  143055325  5032736904  1583428631000   \n",
       "6414  143051525  4281679676  1583423489000   \n",
       "6415  143051046  4104510874  1583423092000   \n",
       "6416  143047461  1330041231  1583420813000   \n",
       "\n",
       "                                                      3         4  \\\n",
       "0     可能是中美关系的问题，可能是SEC的问题，也有可能是中国互联网公司处于自己战略考虑的问题，这...  1.000000   \n",
       "1     01—传iPhone12将于7月开始量产据最新消息，iPhone的生产将在7月-8月开始量产...  1.000000   \n",
       "2     聊聊长期价投的事。老朋友都知道，我新城是第三仓位，第一第二仓位是腾讯和小米，其中腾讯持股二年...  0.998728   \n",
       "3     体验了能动口的，还要动手动；这动手的小动作已经不能忍了，人类到底是有多么的懒？在家办公，下午...  0.003171   \n",
       "4                    一图胜千言，手机卖不动，投资不太行，互联网服务耍流氓，小家电搞的不错  0.077329   \n",
       "...                                                 ...       ...   \n",
       "6412  哈哈， 这点用户数的尾货平台，也值七百亿呢。小米有品的用户成分还是偏单一了？要按唯品会为参照...  0.950800   \n",
       "6413  小米的股票值得买么这是我在其他网的一个答案更新一下，小米18年发布了空调，19年就卖到了10...  1.000000   \n",
       "6414  #facebook# ，马云联手100家银行，在金融圈引发震动！马云那句银行不改变，我们就改...  1.000000   \n",
       "6415   根据雷军在2018年提出的目标：10年营收增长10倍。跟这个算法，小米的年均要接近25%的...  1.000000   \n",
       "6416  产品性价比高一直是小米的标签，但是这也容易带来争议。争议一：性价比高影响企业利润，甚至有低价...  1.000000   \n",
       "\n",
       "                                                      5  \n",
       "0     {'blocked': False, 'blocking': False, 'canEdit...  \n",
       "1     {'blocked': False, 'blocking': False, 'canEdit...  \n",
       "2     {'blocked': False, 'blocking': False, 'canEdit...  \n",
       "3     {'blocked': False, 'blocking': False, 'canEdit...  \n",
       "4     {'blocked': False, 'blocking': False, 'canEdit...  \n",
       "...                                                 ...  \n",
       "6412  {'id': 143055463, 'user_id': 4029702207, 'titl...  \n",
       "6413  {'id': 143055325, 'user_id': 5032736904, 'titl...  \n",
       "6414  {'id': 143051525, 'user_id': 4281679676, 'titl...  \n",
       "6415  {'id': 143051046, 'user_id': 4104510874, 'titl...  \n",
       "6416  {'id': 143047461, 'user_id': 1330041231, 'titl...  \n",
       "\n",
       "[6417 rows x 6 columns]"
      ]
     },
     "execution_count": 24,
     "metadata": {},
     "output_type": "execute_result"
    }
   ],
   "source": [
    "df = pandas.DataFrame(list(dataSheet.find(sort=[('_id', -1)])))\n",
    "df"
   ]
  },
  {
   "cell_type": "code",
   "execution_count": 28,
   "metadata": {},
   "outputs": [
    {
     "data": {
      "text/plain": [
       "array([[150674658, 5900568191, 1591110042000,\n",
       "        '可能是中美关系的问题，可能是SEC的问题，也有可能是中国互联网公司处于自己战略考虑的问题，这些中概股都纷纷回归港股。腾讯、美团、小米这些不用说，是直接在港股上市的，而阿里巴巴、网易、京东最近也都纷纷回归港股，据说拼多多也有可能会回归港股。而网易的回归已经倒计时了，预计6月11日开始正式登陆港股。按照公开数据，网易将在香港公开发行1.715亿股新普通股，发售价上限为126港元/股，代码为“09999.HK”。在香港上市后，公司股票将与在纳斯达克上市的美国存托凭证（ADS）完全可互换。我对网易这个公司的看法一直比较正面，丁磊是一个非常精明且有大格局的浙江企业家。正如丁磊公开信说的一样，网易这些年一直在用心做产品，无论是网易邮箱、网易新闻、网易有道、网易音乐、网易考拉、网易云等等很多产品都是非常出色的，特别是网易音乐，后来居上，目前也是跟腾讯音乐一起成为最出色的音乐在线巨头。网易从2000年到现在，已经经历了20年，这20年，网易几乎陪伴了一代、两代互联网人，几乎所有的70后、80后、90后，以及现在的00后，应该都有用过网易的产品。网易从1G、2G到现在的4G，以及即将到来的5G，网易一直没有落后，网易一直创新，一直跟随。从当年的三大门户网站的现状我们就会发现，只有网易一直在成长，新浪现在的市值已经只有网易的3%了，搜狐更是只有网易市值的0.5%。而网易现在不仅自己市值很高，其孕育的关联企业网易有道、网易云音乐，网易考拉等也都做的很好。对比发现新浪目前只有一个微博，而搜狐只有一个搜狗，但搜狗大股东已经不再是搜狐，且搜狗本身市值也很小。对比才会发现网易的出色。这里面最重要的还是管理层团队。所以我们说投资一定要看管理层，原因就在这里，管理层对一个公司有着异常强大的作用。前段时间我们看雷军也发现了这样的特点，雷军这些年已经逐步走向一个优秀的管理人投资人，他的一些思想、一些格局已经让他可以撑得起整个小米以及金山的很多企业。并不是每个管理层都有这样的格局：而网易的丁磊前段时间也发布了致股东的信《相信热爱的力量》：我们最近看到的一些争夺股权的公司，比方说大亚圣象、皖通科技，本身就是管理层巨大的管理缺失问题，才会使得企业经营出现巨大的问题。而你去看像雷军、马云、丁磊这样的创始人从来都不会有这么些问题，而且本身其格局会使得身边有非常多的追随者，而且他们从来也都是很慷慨大方给予股权激励，积极引进外部投资者，做大做强公司。而网易更是被很多互联网人成为互联网黄埔军校，可见网易对于人才的培养真的做的非常好。这方面我们看搜狐的张朝阳就差远了。很多人离开搜狐做的更好，在搜狐却没有平台，这更突显了张朝阳的管理水平。而现在百度也朝着搜狐的方向在走，李彦宏的管理水平也一定程度上有一些缺失。所以投资我们看两件事情：一个是好的赛道，一个是优秀的管理层。这些事情都需要一段时间的观察与积累，不能说马上就可以看出来管理层是好是坏。而我们通过这两件事情其实我们会发现，小米仍旧是一个好公司，未来的小米集团不可限量。而网易仍旧没有天花板，网易还会做出更多更优秀的产品。根据马太效应，强者恒强。这一波这些优秀的中概股的回归港股，是好事情。别看这些企业现在市值很大，未来可能市值会越来越大，我们拭目以待。各位晚安。万水千山总是情，点个在看行不行。感谢支持。   @今日话题 欢迎关注公众号：柳叶刀财经。',\n",
       "        1.0,\n",
       "        '{\\'blocked\\': False, \\'blocking\\': False, \\'canEdit\\': True, \\'commentId\\': 0, \\'controversial\\': False, \\'created_at\\': 1591110042000, \\'description\\': \"... $网易(NTES)$ $京东(JD)$ $小米集团-W( <span class=\\'highlight\\'>01810</span> )$ @今日话题 欢迎关注公众号：柳叶刀财经。 \", \\'donate_count\\': 0, \\'donate_snowcoin\\': 0, \\'editable\\': False, \\'expend\\': True, \\'fav_count\\': 1, \\'favorited\\': False, \\'firstImg\\': \\'https://xqimg.imedao.com/172758b4deb127003fe15872.png!thumb.jpg\\', \\'flags\\': 171798694912, \\'flagsObj\\': {\\'flags\\': 171798694912}, \\'hot\\': False, \\'id\\': 150674658, \\'is_answer\\': False, \\'is_bonus\\': False, \\'is_refused\\': False, \\'is_reward\\': True, \\'is_ss_multi_pic\\': False, \\'like_count\\': 4, \\'liked\\': False, \\'mark\\': 5, \\'pic\\': \\'https://xqimg.imedao.com/172758b4deb127003fe15872.png!thumb.jpg,https://xqimg.imedao.com/172758b4ba4127a33fe2b8d4.png!thumb.jpg\\', \\'pic_sizes\\': [{\\'height\\': 2337, \\'ratio\\': \\'0.46\\', \\'score\\': 1, \\'setHeight\\': True, \\'setRatio\\': True, \\'setScore\\': True, \\'setWidth\\': True, \\'width\\': 1080}, {\\'height\\': 867, \\'ratio\\': \\'0.74\\', \\'score\\': 4, \\'setHeight\\': True, \\'setRatio\\': True, \\'setScore\\': True, \\'setWidth\\': True, \\'width\\': 638}], \\'promotion_id\\': 0, \\'reply_count\\': 0, \\'retweet_count\\': 1, \\'retweet_status_id\\': 0, \\'reward_count\\': 0, \\'reward_user_count\\': 0, \\'rqid\\': 0, \\'source\\': \\'雪球\\', \\'source_feed\\': False, \\'target\\': \\'/5900568191/150674658\\', \\'text\\': \\'<p>可能是中美关系的问题，可能是SEC的问题，也有可能是中国互联网公司处于自己战略考虑的问题，这些中概股都纷纷回归港股。腾讯、美团、小米这些不用说，是直接在港股上市的，而阿里巴巴、网易、京东最近也都纷纷回归港股，据说拼多多也有可能会回归港股。</p><p>而网易的回归已经倒计时了，预计6月11日开始正式登陆港股。按照公开数据，网易将在香港公开发行1.715亿股新普通股，发售价上限为126港元/股，代码为“09999.HK”。在香港上市后，公司股票将与在纳斯达克上市的美国存托凭证（ADS）完全可互换。</p><p><b>我对网易这个公司的看法一直比较正面，丁磊是一个非常精明且有大格局的浙江企业家</b>。正如丁磊公开信说的一样，网易这些年一直在用心做产品，无论是网易邮箱、网易新闻、网易有道、网易音乐、网易考拉、网易云等等很多产品都是非常出色的，特别是网易音乐，后来居上，目前也是跟腾讯音乐一起成为最出色的音乐在线巨头。<br/></p><p>网易从2000年到现在，已经经历了20年，这20年，网易几乎陪伴了一代、两代互联网人，几乎所有的70后、80后、90后，以及现在的00后，应该都有用过网易的产品。网易从1G、2G到现在的4G，以及即将到来的5G，网易一直没有落后，网易一直创新，一直跟随。从当年的三大门户网站的现状我们就会发现，只有网易一直在成长，新浪现在的市值已经只有网易的3%了，搜狐更是只有网易市值的0.5%。而网易现在不仅自己市值很高，其孕育的关联企业网易有道、网易云音乐，网易考拉等也都做的很好。对比发现新浪目前只有一个微博，而搜狐只有一个搜狗，但搜狗大股东已经不再是搜狐，且搜狗本身市值也很小。<b>对比才会发现网易的出色</b>。</p><p><b>这里面最重要的还是管理层团队。所以我们说投资一定要看管理层，原因就在这里，管理层对一个公司有着异常强大的作用。</b>前段时间我们看雷军也发现了这样的特点，雷军这些年已经逐步走向一个优秀的管理人投资人，他的一些思想、一些格局已经让他可以撑得起整个小米以及金山的很多企业。</p><p>并不是每个管理层都有这样的格局：<br/></p><p><img class=\"ke_img\" src=\"https://xqimg.imedao.com/172758b4deb127003fe15872.png!custom.jpg\" /></p><p>而网易的丁磊前段时间也发布了致股东的信《相信热爱的力量》：</p><p><img class=\"ke_img\" src=\"https://xqimg.imedao.com/172758b4ba4127a33fe2b8d4.png!custom.jpg\" /></p><p>我们最近看到的一些争夺股权的公司，比方说大亚圣象、皖通科技，本身就是管理层巨大的管理缺失问题，才会使得企业经营出现巨大的问题。而你去看像雷军、马云、丁磊这样的创始人从来都不会有这么些问题，而且本身其格局会使得身边有非常多的追随者，而且他们从来也都是很慷慨大方给予股权激励，积极引进外部投资者，做大做强公司。而网易更是被很多互联网人成为互联网黄埔军校，可见网易对于人才的培养真的做的非常好。</p><p>这方面我们看搜狐的张朝阳就差远了。很多人离开搜狐做的更好，在搜狐却没有平台，这更突显了张朝阳的管理水平。而现在百度也朝着搜狐的方向在走，李彦宏的管理水平也一定程度上有一些缺失。</p><p><b>所以投资我们看两件事情：一个是好的赛道，一个是优秀的管理层。</b>这些事情都需要一段时间的观察与积累，不能说马上就可以看出来管理层是好是坏。而我们通过这两件事情其实我们会发现，小米仍旧是一个好公司，未来的小米集团不可限量。而网易仍旧没有天花板，网易还会做出更多更优秀的产品。根据马太效应，强者恒强。</p><p><b>这一波这些优秀的中概股的回归港股，是好事情。别看这些企业现在市值很大，未来可能市值会越来越大，我们拭目以待。</b></p><p>各位晚安。万水千山总是情，点个在看行不行。感谢支持。</p><p><a href=\"http://xueqiu.com/S/NTES\" target=\"_blank\">$网易(NTES)$</a> <a href=\"http://xueqiu.com/S/JD\" target=\"_blank\">$京东(JD)$</a> <a href=\"http://xueqiu.com/S/01810\" target=\"_blank\">$小米集团-W(01810)$</a> <a href=\"http://xueqiu.com/n/今日话题\" target=\"_blank\">@今日话题</a> </p><p>欢迎关注公众号：柳叶刀财经。</p>\\', \\'timeBefore\\': \\'10分钟前\\', \\'title\\': \\'中概股纷纷回归港股\\', \\'truncated\\': False, \\'truncated_by\\': 0, \\'type\\': \\'3\\', \\'user\\': {\\'allow_all_stock\\': False, \\'block_status\\': 0, \\'blocking\\': False, \\'city\\': \\'浦东新区\\', \\'common_count\\': 0, \\'description\\': \\'长线投资者，公众号：柳叶刀财经（liuyedao323）  \\\\n专注基本面分析和行业研究\\', \\'donate_count\\': 0, \\'follow_me\\': False, \\'followers_count\\': 30373, \\'following\\': False, \\'friends_count\\': 30, \\'gender\\': \\'m\\', \\'id\\': 5900568191, \\'last_comment_id\\': 147745964, \\'last_status_id\\': 150674658, \\'photo_domain\\': \\'http://xavatar.imedao.com/\\', \\'profile\\': \\'/5900568191\\', \\'profile_image_url\\': \\'community/20168/1473179908145-1473179908690.jpg,community/20168/1473179908145-1473179908690.jpg!180x180.png,community/20168/1473179908145-1473179908690.jpg!50x50.png,community/20168/1473179908145-1473179908690.jpg!30x30.png\\', \\'province\\': \\'上海\\', \\'screen_name\\': \\'柳叶刀财经\\', \\'st_color\\': \\'1\\', \\'status\\': 0, \\'status_count\\': 1358, \\'step\\': \\'two\\', \\'subscribeable\\': False, \\'type\\': \\'1\\', \\'verified\\': False, \\'verified_description\\': \\'\\', \\'verified_infos\\': [{\\'verified_desc\\': \\'用户已完成实名身份认证\\', \\'verified_type\\': \\'5\\'}], \\'verified_realname\\': False, \\'verified_type\\': 0}, \\'user_id\\': 5900568191, \\'view_count\\': 2431}'],\n",
       "       [150674104, 5455600901, 1591109478000,\n",
       "        '01—传iPhone12将于7月开始量产据最新消息，iPhone的生产将在7月-8月开始量产 。而来自供应链的一份最新报告表明，苹果公司最新智能手机iPhone 12将于10月份推出。消息人士称，首先批量生产的是6.1英寸版iPhone 12机型。也有消息爆出，iPhone将配备6.1英寸，5.4英寸和6.7英寸三种屏幕的机型。消息指出屏幕分别来自三家不同的供应商：三星、京东方、LG。源子：每年猜测苹果新机功能硬件配置是数码爱好者的乐趣之一。有消息称iPhone 12系列都将搭载基于5nm制程工艺的A14仿生芯片以及高通5G基带，这对于整个5G生态都将产生重大影响。据相关机构预测，在上半年，华为5G手机出货量将持续排名第一。02—今日地摊经济概念股大涨今日地摊经济概念股大涨，百大集团、银都股份、茂业商业等多股集体涨停。源子：地摊经济概念股大涨，但是基于微信支付和支付宝小额支付的大生意关注的人不多，很多地摊经济基于小额支付构建了完整的支付生态，也同时盘活了自己的电商生态。03—外媒：台积电拟投资101亿美元建新芯片封装与测试工厂国外媒体报道，全球技术领先的芯片代工商台积电，拟投资101亿美元，新建一座芯片封装与测试工厂。从外媒的报道来看，台积电计划新建的这一座芯片封装与测试工厂，相关的建筑群计划明年5月全部建成，一期随后就将投入生产，初期计划雇佣1000名员工。若外媒的报道属实，投资超过100亿美元的这座芯片封装与测试工厂，就是台积电近期第二座投资超过百亿美元的工厂。（Techweb）源子：台积电最近消息频频，据中证报消息，台积电方面在回复关于3nm工艺延期两个季度试产的传闻称，“目前一切按照计划进行，3nm工艺如期在2021年试产，2022年下半年正式量产。” 目前大部分手机普遍采用的是7nm工艺，苹果可能在iPhone 12率先采用5nm工艺。当台积电进入3nm工艺的阶段，手机行业又将呈现怎样的竞争？04—滴滴发放15亿元出行消费券，覆盖网约车、单车等产品今日，滴滴出行宣布面向全国用户送出价值15亿元出行消费券。据滴滴官方介绍，所有用户首次可领取5折最高抵扣15元的出行券、青桔单车周卡5折券，每天限量发送100万份。几乎涵盖旗下全部出行产品。源子：终于等来了滴滴的福利，企业发放消费券有助于自身业务增长，同时也为更多上下游产业链提供服务，经济最初的样子就是交易，只要存在交易市场就可以盘活。05—vivo X50 系列发布，手机相机进入微云台时代？6月1日 vivo X50 系列发布，其中最值得期待的是 X50 Pro ，搭载了微云台相机，而 X50 Pro ＋并没有增加这一功能。源子：vivo X50有8GB+128GB、8GB+256GB两个版本，价格分别为3498元、3898；X50 Pro有8GB+128GB、8GB+256GB两个版本，价格分别为4298元、4698元；X50 Pro+提供8GB+128GB、8GB+256GB、12GB+256GB三个版本，价格分别为4998元、5498元、5998元。这一手微云防抖直接带领手机行业进入防抖新时代，稳定器厂家要哭了。视频将会成为今后主流的传播方式，而拍摄的设备也将逐渐平民化。vivo X50系列可能并非第一家在视频拍摄上下功夫的手机厂家，但确是最懂消费者的厂商之一。06—中兴天机Axon 11 SE 5G 6月1日发布，主打超薄机身和视频拍摄中兴天机Axon 11 SE 5G采用的是7nm工艺的天玑800处理器，6.53英寸屏幕，拥有90.8%的屏占比。主打超薄机身和视频拍摄的5G手机。源子：在短视频的风潮下，手机全面布局视频拍照，中兴天机Axon 11 SE 5G搭载联发科的天玑800，性能不俗，对得起这个价位。07—小米官宣：杨柘加入小米担任中国区CMO6月2日，小米发布最新一轮人事任命，任命杨柘为小米集团副总裁，中国区首席营销官（CMO），负责中国区市场营销战略制定、计划实施以及品牌建设和推广等工作，向CEO雷军和中国区总裁卢伟冰双线汇报。源子：值得一提的是，杨拓先生曾混迹多年手机营销圈，魅族、TCL通讯、华为、三星等都是杨拓先生的老东家。最近小米大举吸纳手机行业资深人士，或为小米中国和国外市场升级做准备。按照小米手机和IoT双引擎的发展战略，小米已经储备足够多的人才，这场持久的手机圈市场争夺赛，已经进入倒计时，很是期待。08—爱奇艺超前点播庆余年被判违法，1500元赔偿原告公证费6月2日，北京互联网法院宣判“爱奇艺庆余年超前点播案”。判决称“超前点播”违法，构成违约，被告爱奇艺向原告连续15日提供原告原享有的vip会员权益，被告赔偿原告公证费损失1500元，驳回原告其他诉讼请求。2019年《庆余年》上线爱奇艺，收看该剧还需要再额外付出单集3元的“超前点播”费用，原告认为购买会员已经付费，爱奇艺“超前点播”侵犯了他的合法权益，遂将其起诉至北京互联网法院。（新浪科技）源子：VIP中P可还行？当然，抛开偏见，爱奇艺和腾讯视频的超前点映和VIP中P都是为了缓解各自的成本压力。在供需关系中，因为需求上涨合理提高供应价格是正常的市场行为，但是如果在有契约的前提下临时涨价，是不太明智的。这就是今天的资讯，明天见。',\n",
       "        1.0,\n",
       "        '{\\'blocked\\': False, \\'blocking\\': False, \\'canEdit\\': True, \\'commentId\\': 0, \\'controversial\\': False, \\'created_at\\': 1591109478000, \\'description\\': \"...不太明智的。 这就是今天的资讯，明天见。 $小米集团-W( <span class=\\'highlight\\'>01810</span> )$ $爱奇艺(IQ)$ $世茂股份(SH600823)$ \", \\'donate_count\\': 0, \\'donate_snowcoin\\': 0, \\'editable\\': False, \\'expend\\': True, \\'fav_count\\': 0, \\'favorited\\': False, \\'firstImg\\': \\'https://xqimg.imedao.com/1727582b680127653fe21b64.png!thumb.jpg\\', \\'flags\\': 137438953472, \\'flagsObj\\': {\\'flags\\': 137438953472}, \\'hot\\': False, \\'id\\': 150674104, \\'is_answer\\': False, \\'is_bonus\\': False, \\'is_refused\\': False, \\'is_reward\\': True, \\'is_ss_multi_pic\\': False, \\'like_count\\': 0, \\'liked\\': False, \\'mark\\': 0, \\'pic\\': \\'https://xqimg.imedao.com/1727582b680127653fe21b64.png!thumb.jpg,https://xqimg.imedao.com/1727582b661126b23fdca13e.jpg!thumb.jpg,https://xqimg.imedao.com/1727582b64a125d23febde7e.jpg!thumb.jpg,https://xqimg.imedao.com/1727582b76c127703fd1c00c.jpg!thumb.jpg,https://xqimg.imedao.com/1727582b693126723fea1f89.jpg!thumb.jpg,https://xqimg.imedao.com/1727582b67b126b33fdf47c0.jpg!thumb.jpg,https://xqimg.imedao.com/1727582b694127623fd9048b.jpg!thumb.jpg,https://xqimg.imedao.com/1727582b6591275b3fc67026.jpg!thumb.jpg,https://xqimg.imedao.com/1727582b6af127bf3f9d2e86.jpg!thumb.jpg\\', \\'pic_sizes\\': [{\\'height\\': 383, \\'ratio\\': \\'2.35\\', \\'score\\': 1, \\'setHeight\\': True, \\'setRatio\\': True, \\'setScore\\': True, \\'setWidth\\': True, \\'width\\': 900}, {\\'height\\': 608, \\'ratio\\': \\'1.78\\', \\'score\\': 10, \\'setHeight\\': True, \\'setRatio\\': True, \\'setScore\\': True, \\'setWidth\\': True, \\'width\\': 1080}, {\\'height\\': 320, \\'ratio\\': \\'1.52\\', \\'score\\': 2, \\'setHeight\\': True, \\'setRatio\\': True, \\'setScore\\': True, \\'setWidth\\': True, \\'width\\': 488}, {\\'height\\': 608, \\'ratio\\': \\'1.78\\', \\'score\\': 2, \\'setHeight\\': True, \\'setRatio\\': True, \\'setScore\\': True, \\'setWidth\\': True, \\'width\\': 1080}, {\\'height\\': 230, \\'ratio\\': \\'2.39\\', \\'score\\': 1, \\'setHeight\\': True, \\'setRatio\\': True, \\'setScore\\': True, \\'setWidth\\': True, \\'width\\': 550}, {\\'height\\': 501, \\'ratio\\': \\'1.50\\', \\'score\\': 1, \\'setHeight\\': True, \\'setRatio\\': True, \\'setScore\\': True, \\'setWidth\\': True, \\'width\\': 750}, {\\'height\\': 700, \\'ratio\\': \\'1.00\\', \\'score\\': 0, \\'setHeight\\': True, \\'setRatio\\': True, \\'setScore\\': True, \\'setWidth\\': True, \\'width\\': 700}, {\\'height\\': 460, \\'ratio\\': \\'1.50\\', \\'score\\': 0, \\'setHeight\\': True, \\'setRatio\\': True, \\'setScore\\': True, \\'setWidth\\': True, \\'width\\': 690}, {\\'height\\': 574, \\'ratio\\': \\'1.88\\', \\'score\\': 1, \\'setHeight\\': True, \\'setRatio\\': True, \\'setScore\\': True, \\'setWidth\\': True, \\'width\\': 1080}], \\'promotion_id\\': 0, \\'reply_count\\': 0, \\'retweet_count\\': 0, \\'retweet_status_id\\': 0, \\'reward_count\\': 0, \\'reward_user_count\\': 0, \\'rqid\\': 0, \\'source\\': \\'雪球\\', \\'source_feed\\': False, \\'target\\': \\'/5455600901/150674104\\', \\'text\\': \\'<b><p><img class=\"ke_img\" src=\"https://xqimg.imedao.com/1727582b680127653fe21b64.png!custom.jpg\" /></p></b><p>01</p><p>—</p><p><b>传iPhone12将于7月开始量产</b><br/></p><p>据最新消息，iPhone的生产将在7月-8月开始量产 。而来自供应链的一份最新报告表明，苹果公司最新智能手机iPhone 12将于10月份推出。消息人士称，首先批量生产的是6.1英寸版iPhone 12机型。也有消息爆出，iPhone将配备6.1英寸，5.4英寸和6.7英寸三种屏幕的机型。消息指出屏幕分别来自三家不同的供应商：三星、京东方、LG。</p><p><img class=\"ke_img\" src=\"https://xqimg.imedao.com/1727582b661126b23fdca13e.jpg!custom.jpg\" /></p><p><b>源子：每年猜测苹果新机功能硬件配置是数码爱好者的乐趣之一。有消息称iPhone 12系列都将搭载基于5nm制程工艺的A14仿生芯片以及高通5G基带，这对于整个5G生态都将产生重大影响。据相关机构预测，在上半年，华为5G手机出货量将持续排名第一。</b></p><p>02</p><p>—<br/></p><p><b>今日地摊经济概念股大涨</b></p><p><br/></p><p>今日地摊经济概念股大涨，百大集团、银都股份、茂业商业等多股集体涨停。</p><p><img class=\"ke_img\" src=\"https://xqimg.imedao.com/1727582b64a125d23febde7e.jpg!custom.jpg\" /></p><p><b>源子：地摊经济概念股大涨，但是基于微信支付和支付宝小额支付的大生意关注的人不多，很多地摊经济基于小额支付构建了完整的支付生态，也同时盘活了自己的电商生态。</b><br/></p><p>03</p><p>—<br/></p><p><b>外媒：台积电拟投资101亿美元建新芯片封装与测试工厂</b></p><p>国外媒体报道，全球技术领先的芯片代工商台积电，拟投资101亿美元，新建一座芯片封装与测试工厂。从外媒的报道来看，台积电计划新建的这一座芯片封装与测试工厂，相关的建筑群计划明年5月全部建成，一期随后就将投入生产，初期计划雇佣1000名员工。若外媒的报道属实，投资超过100亿美元的这座芯片封装与测试工厂，就是台积电近期第二座投资超过百亿美元的工厂。（Techweb）</p><p><img class=\"ke_img\" src=\"https://xqimg.imedao.com/1727582b76c127703fd1c00c.jpg!custom.jpg\" /></p><p><b>源子：台积电最近消息频频，据中证报消息，台积电方面在回复关于3nm工艺延期两个季度试产的传闻称，“目前一切按照计划进行，3nm工艺如期在2021年试产，2022年下半年正式量产。” 目前大部分手机普遍采用的是7nm工艺，苹果可能在iPhone 12率先采用5nm工艺。当台积电进入3nm工艺的阶段，手机行业又将呈现怎样的竞争？</b></p><p>04</p><p>—<br/></p><p><b>滴滴发放15亿元出行消费券，覆盖网约车、单车等产品</b></p><p>今日，滴滴出行宣布面向全国用户送出价值15亿元出行消费券。据滴滴官方介绍，所有用户首次可领取5折最高抵扣15元的出行券、青桔单车周卡5折券，每天限量发送100万份。几乎涵盖旗下全部出行产品。</p><p><img class=\"ke_img\" src=\"https://xqimg.imedao.com/1727582b693126723fea1f89.jpg!custom.jpg\" /></p><p><b>源子：终于等来了滴滴的福利，企业发放消费券有助于自身业务增长，同时也为更多上下游产业链提供服务，经济最初的样子就是交易，只要存在交易市场就可以盘活。</b></p><p>05</p><p>—<br/></p><p><b>vivo X50 系列发布，手机相机进入微云台时代？</b></p><p>6月1日 vivo X50 系列发布，其中最值得期待的是 X50 Pro ，搭载了微云台相机，而 X50 Pro ＋并没有增加这一功能。</p><p><img class=\"ke_img\" src=\"https://xqimg.imedao.com/1727582b67b126b33fdf47c0.jpg!custom.jpg\" /></p><p><b>源子：vivo X50有8GB+128GB、8GB+256GB两个版本，价格分别为3498元、3898；X50 Pro有8GB+128GB、8GB+256GB两个版本，价格分别为4298元、4698元；X50 Pro+提供8GB+128GB、8GB+256GB、12GB+256GB三个版本，价格分别为4998元、5498元、5998元。这一手微云防抖直接带领手机行业进入防抖新时代，稳定器厂家要哭了。视频将会成为今后主流的传播方式，而拍摄的设备也将逐渐平民化。vivo X50系列可能并非第一家在视频拍摄上下功夫的手机厂家，但确是最懂消费者的厂商之一。</b><br/></p><p>06</p><p>—<br/></p><p><b>中兴天机Axon 11 SE 5G 6月1日发布，主打超薄机身和视频拍摄</b></p><p>中兴天机Axon 11 SE 5G采用的是7nm工艺的天玑800处理器，6.53英寸屏幕，拥有90.8%的屏占比。主打超薄机身和视频拍摄的5G手机。</p><p><img class=\"ke_img\" src=\"https://xqimg.imedao.com/1727582b694127623fd9048b.jpg!custom.jpg\" /></p><p><b>源子：在短视频的风潮下，手机全面布局视频拍照，中兴天机Axon 11 SE 5G搭载联发科的天玑800，性能不俗，对得起这个价位。</b></p><p>07</p><p>—<br/></p><p><b>小米官宣：杨柘加入小米担任中国区CMO</b></p><p>6月2日，小米发布最新一轮人事任命，任命杨柘为小米集团副总裁，中国区首席营销官（CMO），负责中国区市场营销战略制定、计划实施以及品牌建设和推广等工作，向CEO雷军和中国区总裁卢伟冰双线汇报。</p><p><img class=\"ke_img\" src=\"https://xqimg.imedao.com/1727582b6591275b3fc67026.jpg!custom.jpg\" /></p><p><b>源子：值得一提的是，杨拓先生曾混迹多年手机营销圈，魅族、TCL通讯、华为、三星等都是杨拓先生的老东家。最近小米大举吸纳手机行业资深人士，或为小米中国和国外市场升级做准备。按照小米手机和IoT双引擎的发展战略，小米已经储备足够多的人才，这场持久的手机圈市场争夺赛，已经进入倒计时，很是期待。</b></p><p>08</p><p>—<br/></p><p><b>爱奇艺超前点播庆余年被判违法，1500元赔偿原告公证费</b></p><p>6月2日，北京互联网法院宣判“爱奇艺庆余年超前点播案”。判决称“超前点播”违法，构成违约，被告爱奇艺向原告连续15日提供原告原享有的vip会员权益，被告赔偿原告公证费损失1500元，驳回原告其他诉讼请求。</p><p>2019年《庆余年》上线爱奇艺，收看该剧还需要再额外付出单集3元的“超前点播”费用，原告认为购买会员已经付费，爱奇艺“超前点播”侵犯了他的合法权益，遂将其起诉至北京互联网法院。（新浪科技）</p><p><img class=\"ke_img\" src=\"https://xqimg.imedao.com/1727582b6af127bf3f9d2e86.jpg!custom.jpg\" /></p><p><b>源子：VIP中P可还行？当然，抛开偏见，爱奇艺和腾讯视频的超前点映和VIP中P都是为了缓解各自的成本压力。在供需关系中，因为需求上涨合理提高供应价格是正常的市场行为，但是如果在有契约的前提下临时涨价，是不太明智的。</b></p><p><br/></p><p><b>这就是今天的资讯，明天见。</b></p><p><a href=\"http://xueqiu.com/S/01810\" target=\"_blank\">$小米集团-W(01810)$</a> <a href=\"http://xueqiu.com/S/IQ\" target=\"_blank\">$爱奇艺(IQ)$</a> <a href=\"http://xueqiu.com/S/SH600823\" target=\"_blank\">$世茂股份(SH600823)$</a> </p>\\', \\'timeBefore\\': \\'19分钟前\\', \\'title\\': \\'小米官宣：杨柘加入小米担任中国区CMO；滴滴发放15亿元出行消费券；传iPhone12将于7月开始量产\\', \\'truncated\\': False, \\'truncated_by\\': 0, \\'type\\': \\'3\\', \\'user\\': {\\'allow_all_stock\\': False, \\'block_status\\': 0, \\'blocking\\': False, \\'city\\': \\'不限\\', \\'common_count\\': 0, \\'description\\': \\'一个不服的男人，关注科技、汽车、新经济模型\\', \\'donate_count\\': 0, \\'follow_me\\': False, \\'followers_count\\': 241, \\'following\\': False, \\'friends_count\\': 26, \\'gender\\': \\'n\\', \\'id\\': 5455600901, \\'last_comment_id\\': 147752451, \\'last_status_id\\': 150674104, \\'photo_domain\\': \\'http://xavatar.imedao.com/\\', \\'profile\\': \\'/5455600901\\', \\'profile_image_url\\': \\'community/20201/1581643859313-1581643862836.png,community/20201/1581643859313-1581643862836.png!180x180.png,community/20201/1581643859313-1581643862836.png!50x50.png,community/20201/1581643859313-1581643862836.png!30x30.png\\', \\'province\\': \\'北京\\', \\'screen_name\\': \\'源清科技\\', \\'st_color\\': \\'1\\', \\'status\\': 0, \\'status_count\\': 150, \\'step\\': \\'null\\', \\'subscribeable\\': False, \\'type\\': \\'1\\', \\'verified\\': False, \\'verified_realname\\': False, \\'verified_type\\': 0}, \\'user_id\\': 5455600901, \\'view_count\\': 1493}'],\n",
       "       [150674070, 7372541564, 1591109450000,\n",
       "        '聊聊长期价投的事。老朋友都知道，我新城是第三仓位，第一第二仓位是腾讯和小米，其中腾讯持股二年，小米差不多七个月。看了下，今年这二个主帐号的收益(1月2号计算到昨天)，虽然和买白酒消费品医药的股友没的比，但总是跑赢大盘。还有，我的持股中，小米和新城都还在低位，未来还是可期待的。',\n",
       "        0.9987282125487242,\n",
       "        '{\\'blocked\\': False, \\'blocking\\': False, \\'canEdit\\': True, \\'commentId\\': 0, \\'controversial\\': False, \\'created_at\\': 1591109450000, \\'description\\': \"...是可期待的。 $腾讯控股(00700)$ $小米集团-W( <span class=\\'highlight\\'>01810</span> )$ \", \\'donate_count\\': 0, \\'donate_snowcoin\\': 0, \\'editable\\': False, \\'expend\\': True, \\'fav_count\\': 0, \\'favorited\\': False, \\'firstImg\\': \\'https://xqimg.imedao.com/17275837221127773fed18e5.jpeg!thumb.jpg\\', \\'flags\\': 1241245548544, \\'flagsObj\\': {\\'flags\\': 1241245548544}, \\'hot\\': False, \\'id\\': 150674070, \\'is_answer\\': False, \\'is_bonus\\': False, \\'is_refused\\': False, \\'is_reward\\': True, \\'is_ss_multi_pic\\': True, \\'like_count\\': 9, \\'liked\\': False, \\'mark\\': 0, \\'pic\\': \\'https://xqimg.imedao.com/17275837221127773fed18e5.jpeg!thumb.jpg,https://xqimg.imedao.com/172758373b2127c03fddf65c.jpeg!thumb.jpg,https://xqimg.imedao.com/172758374ad126743fed98af.jpeg!thumb.jpg,https://xqimg.imedao.com/1727583752b127683fed252c.jpeg!thumb.jpg\\', \\'pic_sizes\\': [{\\'height\\': 1488, \\'ratio\\': \\'0.67\\', \\'score\\': 1, \\'setHeight\\': True, \\'setRatio\\': True, \\'setScore\\': True, \\'setWidth\\': True, \\'width\\': 1003}, {\\'height\\': 2340, \\'ratio\\': \\'0.46\\', \\'score\\': 1, \\'setHeight\\': True, \\'setRatio\\': True, \\'setScore\\': True, \\'setWidth\\': True, \\'width\\': 1080}, {\\'height\\': 2340, \\'ratio\\': \\'0.46\\', \\'score\\': 1, \\'setHeight\\': True, \\'setRatio\\': True, \\'setScore\\': True, \\'setWidth\\': True, \\'width\\': 1080}, {\\'height\\': 2340, \\'ratio\\': \\'0.46\\', \\'score\\': 2, \\'setHeight\\': True, \\'setRatio\\': True, \\'setScore\\': True, \\'setWidth\\': True, \\'width\\': 1080}], \\'promotion_id\\': 0, \\'reply_count\\': 3, \\'retweet_count\\': 0, \\'retweet_status_id\\': 0, \\'reward_count\\': 0, \\'reward_user_count\\': 0, \\'rqid\\': 0, \\'source\\': \\'Android\\', \\'source_feed\\': False, \\'source_link\\': \\'http://xueqiu.com/about/mobile-xueqiu\\', \\'target\\': \\'/7372541564/150674070\\', \\'text\\': \\'聊聊长期价投的事。老朋友都知道，我新城是第三仓位，第一第二仓位是腾讯和小米，其中腾讯持股二年，小米差不多七个月。看了下，今年这二个主帐号的收益(1月2号计算到昨天)，虽然和买白酒消费品医药的股友没的比，但总是跑赢大盘。还有，我的持股中，小米和新城都还在低位，未来还是可期待的。<a href=\"http://xueqiu.com/S/00700\" target=\"_blank\">$腾讯控股(00700)$</a> <a href=\"http://xueqiu.com/S/01810\" target=\"_blank\">$小米集团-W(01810)$</a><br/><img class=\"ke_img\" src=\"https://xqimg.imedao.com/17275837221127773fed18e5.jpeg!custom.jpg\" /><br/><img class=\"ke_img\" src=\"https://xqimg.imedao.com/172758373b2127c03fddf65c.jpeg!custom.jpg\" /><br/><img class=\"ke_img\" src=\"https://xqimg.imedao.com/172758374ad126743fed98af.jpeg!custom.jpg\" /><br/><img class=\"ke_img\" src=\"https://xqimg.imedao.com/1727583752b127683fed252c.jpeg!custom.jpg\" />\\', \\'timeBefore\\': \\'20分钟前\\', \\'title\\': \\'\\', \\'truncated\\': False, \\'truncated_by\\': 0, \\'type\\': \\'2\\', \\'user\\': {\\'allow_all_stock\\': False, \\'block_status\\': 0, \\'blocking\\': False, \\'city\\': \\'宁波\\', \\'common_count\\': 0, \\'description\\': \\'浙江宁波人，零售和餐饮领域投资者。\\', \\'donate_count\\': 0, \\'follow_me\\': False, \\'followers_count\\': 3216, \\'following\\': False, \\'friends_count\\': 70, \\'gender\\': \\'m\\', \\'id\\': 7372541564, \\'last_comment_id\\': 148007238, \\'last_status_id\\': 150674070, \\'photo_domain\\': \\'http://xavatar.imedao.com/\\', \\'profile\\': \\'/7372541564\\', \\'profile_image_url\\': \\'community/20200/1577962666763-1577962666963.jpeg,community/20200/1577962666763-1577962666963.jpeg!180x180.png,community/20200/1577962666763-1577962666963.jpeg!50x50.png,community/20200/1577962666763-1577962666963.jpeg!30x30.png\\', \\'province\\': \\'浙江\\', \\'screen_name\\': \\'八音nb\\', \\'st_color\\': \\'1\\', \\'status\\': 2, \\'status_count\\': 111, \\'step\\': \\'null\\', \\'subscribeable\\': False, \\'type\\': \\'1\\', \\'verified\\': False, \\'verified_realname\\': False, \\'verified_type\\': 0}, \\'user_id\\': 7372541564, \\'view_count\\': 2424}'],\n",
       "       ...,\n",
       "       [143051525, 4281679676, 1583423489000,\n",
       "        '#facebook# ，马云联手100家银行，在金融圈引发震动！马云那句银行不改变，我们就改变银行，曾经深深影响了银行圈。很多人认为马云要颠覆银行。多年过去，今天回头看这句话，多少有些被曲解！先来看下，马云这次和100家银行联手，是要做什么？根据公开信息，这次是马云旗下的网商银行，要和100家银行联手大推「无接触贷款」，而且这件事，国家非常支持，全国工商联亲自挂帅，作为计划的发起方。其实从这件事的本质来看，再一次打脸传统银行，再一次引领银行业的未来发展和方向！在传统经济和互联网经济的结合，其本质还是小米的互联网手机思路，是互联网工具的用户体验模式，所有生意的本质都是流量和用户体验而带来的口碑模式，未来的发展是用户的时代，是用户至上的口碑时代，是用户体验到客户价值导向！未来银行业的发展，谁会好过，谁会过得滋润，谁会更艰难，这是一个互联网引领的银行裂变时代，是一个撕裂银行的时代，有的银行注定粉身碎骨，被历史的车轮碾压得面目全非，而有的银行将是鲜花和掌声包围！未来银行一定是存在的，但会是以什么方式存在以及成为霸主，但一定是跟消费，信贷，支付，数字货币，互联网融合的混业经营以及糅合的银行，我们是拭目以待！所以，投资银行股风险是巨大的，不要被低价和打折迷惑了你购买标的本质，在国内投资A股不要被股息和低市盈率估值蒙蔽，银行股不要轻信投资专家的分析，投资一定要看企业的持续盈利能力而不是短期盈利，也就是永续经营的能力，护城河的能力，企业文化导向的能力！银行业未来真正的霸主强者，未必是银行主导，未来一切都难说，本人一直看好互联网导入的控股和组建的银行金融业态，比如像小米金融，腾讯和阿里以及京东的这类金融，当然，但一直以来我仅仅代表我个人的观点！所以选择投资标的，还是要以价值投资和永续经营为前提！未来，顺丰有自己或者自己控股的银行，Facebook目前在布局的棋比腾讯还大，苹果和亚马逊也是！小米有自己或者自己控股的银行，其实小米已经在做了，做得还不错，未来在中国，更看好小米的互联网思维做混业经营。但由于茅台是国企，所以很多性质不同，其实茅台财务公司已经在干这个事，只是没有巴菲特段永平这种能力而已！总而言之：能够颠覆银行的，一定不是银行，而是跨界！',\n",
       "        1.0,\n",
       "        '{\\'id\\': 143051525, \\'user_id\\': 4281679676, \\'title\\': \\'\\', \\'text\\': \\'<a href=\"http://xueqiu.com/S/01810\" target=\"_blank\">$小米集团-W(<span class=\\\\\\'highlight\\\\\\'>01810</span>)$</a> <a href=\"http://xueqiu.com/S/SH600519\" target=\"_blank\">$贵州茅台(SH600519)$</a> <a href=\"http://xueqiu.com/k?q=%23facebook%23\" target=\"_blank\">#facebook#</a> ，马云联手100家银行，在金融圈引发震动！马云那句银行不改变，我们就改变银行，曾经深深影响了银行圈。很多人认为马云要颠覆银行。<br/>多年过去，今天回头看这句话，多少有些被曲解！<br/>先来看下，马云这次和100家银行联手，是要做什么？根据公开信息，这次是马云旗下的网商银行，要和100家银行联手大推「无接触贷款」，而且这件事，国家非常支持，全国工商联亲自挂帅，作为计划的发起方。<br/>其实从这件事的本质来看，再一次打脸传统银行，再一次引领银行业的未来发展和方向！在传统经济和互联网经济的结合，其本质还是小米的互联网手机思路，是互联网工具的用户体验模式，所有生意的本质都是流量和用户体验而带来的口碑模式，未来的发展是用户的时代，是用户至上的口碑时代，是用户体验到客户价值导向！未来银行业的发展，谁会好过，谁会过得滋润，谁会更艰难，这是一个互联网引领的银行裂变时代，是一个撕裂银行的时代，有的银行注定粉身碎骨，被历史的车轮碾压得面目全非，而有的银行将是鲜花和掌声包围！未来银行一定是存在的，但会是以什么方式存在以及成为霸主，但一定是跟消费，信贷，支付，数字货币，互联网融合的混业经营以及糅合的银行，我们是拭目以待！所以，投资银行股风险是巨大的，不要被低价和打折迷惑了你购买标的本质，在国内投资A股不要被股息和低市盈率估值蒙蔽，银行股不要轻信投资专家的分析，投资一定要看企业的持续盈利能力而不是短期盈利，也就是永续经营的能力，护城河的能力，企业文化导向的能力！银行业未来真正的霸主强者，未必是银行主导，未来一切都难说，本人一直看好互联网导入的控股和组建的银行金融业态，比如像小米金融，腾讯和阿里以及京东的这类金融，当然，但一直以来我仅仅代表我个人的观点！所以选择投资标的，还是要以价值投资和永续经营为前提！未来，顺丰有自己或者自己控股的银行，Facebook目前在布局的棋比腾讯还大，苹果和亚马逊也是！小米有自己或者自己控股的银行，其实小米已经在做了，做得还不错，未来在中国，更看好小米的互联网思维做混业经营。但由于茅台是国企，所以很多性质不同，其实茅台财务公司已经在干这个事，只是没有巴菲特段永平这种能力而已！总而言之：能够颠覆银行的，一定不是银行，而是跨界！\\', \\'created_at\\': 1583423489000, \\'retweet_count\\': 0, \\'reply_count\\': 0, \\'fav_count\\': 0, \\'truncated\\': False, \\'commentId\\': 0, \\'retweet_status_id\\': 0, \\'symbol_id\\': None, \\'description\\': \\' $小米集团-W( <span class=\\\\\\'highlight\\\\\\'>01810</span> )$ <a href=\"http://xueqiu.com/S/SH600519\" target=\"_blank\">$贵州茅台(SH600519)$</a> <a href=\"http://xueqiu.com/k?q=%23facebook%23\" target=\"_blank\">#facebook#</a> ，马云联手100家银行，在金融圈引发震动！马云那句银行不改变，我们就改变银行，曾经深深影响了银行圈。很多人认为马云要颠覆银行。 多年过去，今天回头看这句话，多少有些被曲解！ 先来看下，马云这次和100家银行联手，是要做什么？根据公开信息，...\\', \\'type\\': \\'2\\', \\'source_link\\': \\'http://xueqiu.com/about/mobile-xueqiu\\', \\'edited_at\\': None, \\'pic\\': \\'\\', \\'user\\': {\\'subscribeable\\': False, \\'remark\\': None, \\'status\\': 2, \\'common_count\\': 0, \\'domain\\': None, \\'description\\': \\'有为，有不为\\', \\'type\\': \\'1\\', \\'location\\': None, \\'id\\': 4281679676, \\'stats\\': None, \\'url\\': None, \\'screen_name\\': \\'孤独的狂欢蜗牛\\', \\'following\\': False, \\'profile\\': \\'/4281679676\\', \\'verified\\': False, \\'blocking\\': False, \\'donate_count\\': 0, \\'friends_count\\': 222, \\'followers_count\\': 577, \\'st_color\\': \\'1\\', \\'follow_me\\': False, \\'verified_description\\': None, \\'province\\': \\'海外\\', \\'city\\': \\'新加坡\\', \\'gender\\': \\'m\\', \\'step\\': \\'null\\', \\'blog_description\\': None, \\'verified_type\\': 0, \\'last_status_id\\': 143056413, \\'status_count\\': 466, \\'recommend\\': None, \\'intro\\': None, \\'stock_status_count\\': None, \\'allow_all_stock\\': False, \\'stocks_count\\': None, \\'name\\': None, \\'group_ids\\': None, \\'name_pinyin\\': None, \\'screenname_pinyin\\': None, \\'block_status\\': 0, \\'_source\\': None, \\'verified_realname\\': False, \\'verified_infos\\': None, \\'profile_image_url\\': \\'community/20197/1564594898226-1564594898504.jpeg,community/20197/1564594898226-1564594898504.jpeg!180x180.png,community/20197/1564594898226-1564594898504.jpeg!50x50.png,community/20197/1564594898226-1564594898504.jpeg!30x30.png\\', \\'photo_domain\\': \\'//xavatar.imedao.com/\\'}, \\'retweeted_status\\': None, \\'target\\': \\'/4281679676/143051525\\', \\'fragment\\': None, \\'blocked\\': False, \\'blocking\\': False, \\'topic_pic\\': None, \\'topic_symbol\\': None, \\'topic_title\\': None, \\'topic_desc\\': None, \\'donate_count\\': 0, \\'donate_snowcoin\\': 0, \\'view_count\\': 0, \\'offer\\': None, \\'mark\\': 0, \\'comment\\': None, \\'expend\\': True, \\'rqtype\\': None, \\'rqid\\': 0, \\'firstImg\\': None, \\'card\\': {\\'param\\': \\'typ=MANUAL&id=299\\', \\'data\\': \\'{\"items\":[{\"id\":299,\"tag\":\"#facebook#\",\"content\":\"\",\"pic\":null,\"backgroundColor\":\"\",\"following\":false,\"pic_size\":null,\"status_count\":36,\"follower_count\":0}]}\\', \\'first\\': \\'{\"items\":[{\"id\":299,\"tag\":\"#facebook#\",\"content\":\"\",\"pic\":null,\"backgroundColor\":\"\",\"following\":false,\"pic_size\":null,\"status_count\":36,\"follower_count\":0}]}\\', \\'type\\': \\'hashtag\\'}, \\'favorited\\': False, \\'favorited_created_at\\': None, \\'topic_pic_thumbnail\\': None, \\'topic_pic_headOrPad\\': None, \\'topic_pic_thumbnail_small\\': None, \\'canEdit\\': True, \\'shortStatusMultiPic\\': False, \\'timeBefore\\': \\'03-05 23:51\\', \\'mark_desc\\': None, \\'reward_count\\': 0, \\'reward_user_count\\': 0, \\'paid_mention\\': None, \\'is_answer\\': False, \\'is_refused\\': False, \\'is_reward\\': True, \\'_source\\': \\'sc_1:6:01810\\', \\'pic_sizes\\': [], \\'like_count\\': 1, \\'liked\\': False, \\'promotion_pic\\': None, \\'promotion_url\\': None, \\'promotion_id\\': 0, \\'quote_cards\\': None, \\'is_ss_multi_pic\\': False, \\'excellent_comments\\': None, \\'is_bonus\\': False, \\'source\\': \\'Android\\'}'],\n",
       "       [143051046, 4104510874, 1583423092000,\n",
       "        ' 根据雷军在2018年提出的目标：10年营收增长10倍。跟这个算法，小米的年均要接近25%的高速增长，10年后才能达到销售额17000亿10年增长10倍，A股市场不乏许多经典案例，比方格力电器，2002年销售额70亿，到了2012年销售额1001亿，增长14倍恒瑞医药，2002年销售额7.5亿，一直到2014年才达到10倍左右的74亿腾讯，2007年销售额38亿，2017年2377亿，接近62倍当然了，上面的对比都太简单了我想说的是，市场没有天花板，修行在各人可能大家都在想，小米体量太大，没可能华为2019年销售收入8500亿，10年后，华为会达到8万5000亿的销售额吗》？如果小米在十年后，取代OV，一统物联网江湖，成为国内第二，国际前三能够达成年度销售收入17000亿的目标吗？印钞的货币是越来越多的目前来看，小米达成目标有三成的机会大家觉得，会有几成胜算？（如果达成10年10倍的目标，股价会增长几倍，还是有点小期待）',\n",
       "        0.9999999999999878,\n",
       "        '{\\'id\\': 143051046, \\'user_id\\': 4104510874, \\'title\\': \\'\\', \\'text\\': \\'<p><a href=\"http://xueqiu.com/S/01810\" target=\"_blank\">$小米集团-W(<span class=\\\\\\'highlight\\\\\\'>01810</span>)$</a>&nbsp;<a href=\"http://xueqiu.com/S/SZ000651\" target=\"_blank\">$格力电器(SZ000651)$</a> 根据雷军在2018年提出的目标：10年营收增长10倍。</p><p>跟这个算法，小米的年均要接近25%的高速增长，10年后才能达到销售额17000亿</p><p>10年增长10倍，A股市场不乏许多经典案例，</p><p>比方格力电器，2002年销售额70亿，到了2012年销售额1001亿，增长14倍</p><p>恒瑞医药，2002年销售额7.5亿，一直到2014年才达到10倍左右的74亿</p><p>腾讯，2007年销售额38亿，2017年2377亿，接近62倍</p><p>当然了，上面的对比都太简单了</p><p>我想说的是，市场没有天花板，修行在各人</p><p>可能大家都在想，小米体量太大，没可能</p><p>华为2019年销售收入8500亿，10年后，华为会达到8万5000亿的销售额吗》？</p><p>如果小米在十年后，取代OV，一统物联网江湖，成为国内第二，国际前三</p><p>能够达成年度销售收入17000亿的目标吗？</p><p>印钞的货币是越来越多的</p><p>目前来看，小米达成目标有三成的机会</p><p>大家觉得，会有几成胜算？</p><p>（如果达成10年10倍的目标，股价会增长几倍，还是有点小期待）</p>\\', \\'created_at\\': 1583423092000, \\'retweet_count\\': 1, \\'reply_count\\': 1, \\'fav_count\\': 0, \\'truncated\\': False, \\'commentId\\': 0, \\'retweet_status_id\\': 0, \\'symbol_id\\': None, \\'description\\': \\' $小米集团-W( <span class=\\\\\\'highlight\\\\\\'>01810</span> )$   <a href=\"http://xueqiu.com/S/SZ000651\" target=\"_blank\">$格力电器(SZ000651)$</a> 根据雷军在2018年提出的目标：10年营收增长10倍。 跟这个算法，小米的年均要接近25%的高速增长，10年后才能达到销售额17000亿 10年增长10倍，A股市场不乏许多经典案例， 比方格力电器，2002年销售额70亿，到了2012年销售额1001亿，增长14倍 恒瑞医药，2002年...\\', \\'type\\': \\'2\\', \\'source_link\\': None, \\'edited_at\\': None, \\'pic\\': \\'\\', \\'user\\': {\\'subscribeable\\': False, \\'remark\\': None, \\'status\\': 2, \\'common_count\\': 0, \\'domain\\': None, \\'description\\': \\'熊市中防御性坚守，不出局你就赢了\\\\n喜欢的一起唠唠，V：pande633\\', \\'type\\': \\'1\\', \\'location\\': None, \\'id\\': 4104510874, \\'stats\\': None, \\'url\\': None, \\'screen_name\\': \\'华山派大师哥\\', \\'following\\': False, \\'profile\\': \\'/4104510874\\', \\'verified\\': False, \\'blocking\\': False, \\'donate_count\\': 0, \\'friends_count\\': 69, \\'followers_count\\': 169, \\'st_color\\': \\'1\\', \\'follow_me\\': False, \\'verified_description\\': \\'\\', \\'province\\': \\'江苏\\', \\'city\\': \\'徐州\\', \\'gender\\': \\'m\\', \\'step\\': \\'null\\', \\'blog_description\\': None, \\'verified_type\\': 0, \\'last_status_id\\': 143051046, \\'status_count\\': 363, \\'recommend\\': None, \\'intro\\': None, \\'stock_status_count\\': None, \\'allow_all_stock\\': False, \\'stocks_count\\': None, \\'name\\': None, \\'group_ids\\': None, \\'name_pinyin\\': None, \\'screenname_pinyin\\': None, \\'block_status\\': 0, \\'_source\\': None, \\'verified_realname\\': False, \\'verified_infos\\': [{\\'verified_type\\': \\'5\\', \\'verified_desc\\': \\'用户已完成实名身份认证\\'}], \\'profile_image_url\\': \\'community/201810/1543331700605-1543331700791.jpeg,community/201810/1543331700605-1543331700791.jpeg!180x180.png,community/201810/1543331700605-1543331700791.jpeg!50x50.png,community/201810/1543331700605-1543331700791.jpeg!30x30.png\\', \\'photo_domain\\': \\'//xavatar.imedao.com/\\'}, \\'retweeted_status\\': None, \\'target\\': \\'/4104510874/143051046\\', \\'fragment\\': None, \\'blocked\\': False, \\'blocking\\': False, \\'topic_pic\\': None, \\'topic_symbol\\': None, \\'topic_title\\': None, \\'topic_desc\\': None, \\'donate_count\\': 0, \\'donate_snowcoin\\': 0, \\'view_count\\': 0, \\'offer\\': None, \\'mark\\': 0, \\'comment\\': None, \\'expend\\': True, \\'rqtype\\': None, \\'rqid\\': 0, \\'firstImg\\': None, \\'card\\': None, \\'favorited\\': False, \\'favorited_created_at\\': None, \\'topic_pic_thumbnail\\': None, \\'topic_pic_headOrPad\\': None, \\'topic_pic_thumbnail_small\\': None, \\'canEdit\\': True, \\'shortStatusMultiPic\\': False, \\'timeBefore\\': \\'03-05 23:44\\', \\'mark_desc\\': None, \\'reward_count\\': 0, \\'reward_user_count\\': 0, \\'paid_mention\\': None, \\'is_answer\\': False, \\'is_refused\\': False, \\'is_reward\\': True, \\'_source\\': \\'sc_1:7:01810\\', \\'pic_sizes\\': [], \\'like_count\\': 1, \\'liked\\': False, \\'promotion_pic\\': None, \\'promotion_url\\': None, \\'promotion_id\\': 0, \\'quote_cards\\': None, \\'is_ss_multi_pic\\': False, \\'excellent_comments\\': None, \\'is_bonus\\': False, \\'source\\': \\'雪球\\'}'],\n",
       "       [143047461, 1330041231, 1583420813000,\n",
       "        '产品性价比高一直是小米的标签，但是这也容易带来争议。争议一：性价比高影响企业利润，甚至有低价误国这种无稽之谈。争议二：随着小米推出价格高于3000元甚至4000元的手机，不少米粉开始指责小米价格不再亲民，业界也评价其丧失性价比竞争力。以上争议有的出自米粉，有的出自投资者，也有出于菊花粉。我说呢，小米的价格战略是小米企业战略的核心部分，只有深刻理解营销理论的人才能体会。出于自身与小米关系而导致的左右摇摆的看法都是非客观的。本文不惜笔墨，追根究底性价比战略，期望一言澄清，以正视听。首先要澄清关于性价比的两个误区：一是认为高性价比就是低价。性价比是性能和价格的比值，怎么可以拿低价去替代呢？性价比战略和低价战略完全是两种不同的战略。有些消费者嘴里说的是追求高性价比，其实就是追求低价。这种认知属于典型的心理保护。二是狭义地理解性价比就是产品技术指标和价格的比值。实际上虽然性价比这个名词出自电子产品，但演变至今，其分子指向实际是产品综合性能对消费者产生的使用价值。这里面，还存在不同消费者之间的差异，甚至其分母，也就是价格，对不同消费者的弹性也是不一样的。下面正式拆解性价比。性价比的分子是产品的性能带给消费者使用价值，企业无疑都是要提升这个价值的，其努力方向有两个，一是选择生产更高端的产品，但是这带来了成本的增加，二是判断哪些性能的增加对提升消费者使用价值权重更大。性价比的分母是价格，追求高性价比的企业无疑都要降低这个数值，但是价格的降低造成两个方向的影响，要么影响产品的成本，制约性能，要么降低企业利润。假设忽略不同性能的增加对提升消费者使用价值权提升的权重差异，再假设各企业的利润诉求一致，那么性价比就是性能除以价格。实际上，如今手机为代表的电子产品同质化极高，硬件指标和综合成本几乎成正比，在以上两个假设下，所有企业的所有手机的性价比应该完全一致。至于实际上出现了那么多让我们感觉性价比差异如此之大的手机，是各家企业战略差异导致。如上图所示，产品的性能和价格基本是成正比的，理论上应该是中间那条虚线。但是实际上，是那条曲线。产品的性能最低的时候，会面临两个问题，一是性能不达到一定门槛，产生不了实际价值。比如现在1G内存的手机，虽然还有一定的成本，但是根本没法使用。二是最低端的产品区，很可能市场极小，或者生产企业规模极小，导致固定成本太高。所以每单位成本提升时，刚开始的时候，性能提升是很慢的。性能最高的时候，也会面临问题，一是高端产品往往都是新研发，存在研发的固定成本，另外市场也不大。所以高端区域，每单位成本提升时，性能提升也变慢了。只有在中间区域，性能随着每单成本的提升，增长最显著。这就决定了，选择中端档次的企业，性价比条件是最好的。不同的企业根据行业特性和自身核心竞争力，依据企业战略在上图中选择适合自己的区域。产业链中上游的企业，往往选择高性价比区域，因为下游采购企业一般都是理性的。凡是参与过招标的人都清楚，设定一个性能门槛，或者低价者得，或者评标打分，中标的往往都是中端供应商。这也是我不买产业链中上游企业股票的原因，因为它们往往被迫处于高性价比区，没有实施自身价格战略的自由，也就既无法获得溢价，可能也无法获得无止境的市场份额。而消费品生产企业可以自由地选择价格战略。有的选择低价战略，抢夺最低端的用户市场，典型如春秋航空。有的走高端路线，甚至产品售价远远高出成本和应得利润，实施撇脂策略。走高端路线的企业有的依靠品牌，比如茅台。有的依靠技术能力，比如苹果。走中端或者低端路线的企业，也有可能形成规模优势，巩固自己的价格战略，依靠的是企业的管理和营销能力。以上都是好的战略，这些企业的股票都值得我们购买。但小米是一个特殊的。毫无疑问，小米一直在执行高性价比战略，最初创业到如今，手机、电视以及各类产品都在中端档次。对其当下手机价格突破4千有质疑的人，你要知道近几年手机价位一直在抬升，4千已经不是高端手机了。另外，小米对具体配件的选择也在尽量符合用户使用需要，而精打细算地花着成本，本文就不展开了。小米的轻资产代工模式、减少研发费用的模式都是服务于其性价比战略的。关于这个问题，我几天前引用的《中外管理》中相关文章详尽阐述了，低价误国论可以休矣。然而，做完这些，小米还嫌不够。他还要通过压缩自己利润的方式来降低售价，实施上图中的低毛利策略。我作为一个消费者，已经明显感受到它最后的这个努力带来了产品的不可抗拒。显然这是把能挣的钱让了出去。如果不这么做，销量低一点，但是总利润一定高。为什么要这么做，全世界的上市公司都不会这么做，所有的投资者都反对这么做。只因为一个人的梦想，一个已经功成名就，还要创业的人。如同很多菊花粉所说，没有无缘无故的让利，总会捞回来的。没错，他要的是让小米成为三星那样规模的全球家用电子产品领导者。他要成为乔布斯或者刚刚逝去的前通用CEO杰克·韦尔奇那样的人物。他就像那日本百年老店中绝不轻言涨价的传世工匠。他通过个人权威在一个上市公司内坚持另类的主张，他通过过去10年的飞速发展说服他的同僚和投资人支持他的战略。我作为一个小股东根本无所谓小米通过兑现利润来推高股价，我期望它的市场越来越广阔，早晚它会给我更多的回报。',\n",
       "        1.0,\n",
       "        '{\\'id\\': 143047461, \\'user_id\\': 1330041231, \\'title\\': \\'我为什么认可小米（四）：小米的性价比战略\\', \\'text\\': \\'<p>产品性价比高一直是小米的标签，但是这也容易带来争议。争议一：性价比高影响企业利润，甚至有低价误国这种无稽之谈。争议二：随着小米推出价格高于3000元甚至4000元的手机，不少米粉开始指责小米价格不再亲民，业界也评价其丧失性价比竞争力。以上争议有的出自米粉，有的出自投资者，也有出于菊花粉。我说呢，小米的价格战略是小米企业战略的核心部分，只有深刻理解营销理论的人才能体会。出于自身与小米关系而导致的左右摇摆的看法都是非客观的。本文不惜笔墨，追根究底性价比战略，期望一言澄清，以正视听。</p><p>首先要澄清关于性价比的两个误区：一是认为高性价比就是低价。性价比是性能和价格的比值，怎么可以拿低价去替代呢？性价比战略和低价战略完全是两种不同的战略。有些消费者嘴里说的是追求高性价比，其实就是追求低价。这种认知属于典型的心理保护。二是狭义地理解性价比就是产品技术指标和价格的比值。实际上虽然性价比这个名词出自电子产品，但演变至今，其分子指向实际是产品综合性能对消费者产生的使用价值。这里面，还存在不同消费者之间的差异，甚至其分母，也就是价格，对不同消费者的弹性也是不一样的。</p><p>下面正式拆解性价比。性价比的分子是产品的性能带给消费者使用价值，企业无疑都是要提升这个价值的，其努力方向有两个，一是选择生产更高端的产品，但是这带来了成本的增加，二是判断哪些性能的增加对提升消费者使用价值权重更大。性价比的分母是价格，追求高性价比的企业无疑都要降低这个数值，但是价格的降低造成两个方向的影响，要么影响产品的成本，制约性能，要么降低企业利润。假设忽略不同性能的增加对提升消费者使用价值权提升的权重差异，再假设各企业的利润诉求一致，那么性价比就是性能除以价格。实际上，如今手机为代表的电子产品同质化极高，硬件指标和综合成本几乎成正比，在以上两个假设下，所有企业的所有手机的性价比应该完全一致。至于实际上出现了那么多让我们感觉性价比差异如此之大的手机，是各家企业战略差异导致。</p><p><img class=\"ke_img\" src=\"https://xqimg.imedao.com/170ab3ab1d21165b3fa4f958.png!custom.jpg\" /></p><p>如上图所示，产品的性能和价格基本是成正比的，理论上应该是中间那条虚线。但是实际上，是那条曲线。</p><p>产品的性能最低的时候，会面临两个问题，一是性能不达到一定门槛，产生不了实际价值。比如现在1G内存的手机，虽然还有一定的成本，但是根本没法使用。二是最低端的产品区，很可能市场极小，或者生产企业规模极小，导致固定成本太高。所以每单位成本提升时，刚开始的时候，性能提升是很慢的。性能最高的时候，也会面临问题，一是高端产品往往都是新研发，存在研发的固定成本，另外市场也不大。所以高端区域，每单位成本提升时，性能提升也变慢了。只有在中间区域，性能随着每单成本的提升，增长最显著。这就决定了，选择中端档次的企业，性价比条件是最好的。</p><p>不同的企业根据行业特性和自身核心竞争力，依据企业战略在上图中选择适合自己的区域。产业链中上游的企业，往往选择高性价比区域，因为下游采购企业一般都是理性的。凡是参与过招标的人都清楚，设定一个性能门槛，或者低价者得，或者评标打分，中标的往往都是中端供应商。这也是我不买产业链中上游企业股票的原因，因为它们往往被迫处于高性价比区，没有实施自身价格战略的自由，也就既无法获得溢价，可能也无法获得无止境的市场份额。</p><p>而消费品生产企业可以自由地选择价格战略。有的选择低价战略，抢夺最低端的用户市场，典型如春秋航空。有的走高端路线，甚至产品售价远远高出成本和应得利润，实施撇脂策略。走高端路线的企业有的依靠品牌，比如茅台。有的依靠技术能力，比如苹果。走中端或者低端路线的企业，也有可能形成规模优势，巩固自己的价格战略，依靠的是企业的管理和营销能力。以上都是好的战略，这些企业的股票都值得我们购买。</p><p>但小米是一个特殊的。毫无疑问，小米一直在执行高性价比战略，最初创业到如今，手机、电视以及各类产品都在中端档次。对其当下手机价格突破4千有质疑的人，你要知道近几年手机价位一直在抬升，4千已经不是高端手机了。另外，小米对具体配件的选择也在尽量符合用户使用需要，而精打细算地花着成本，本文就不展开了。小米的轻资产代工模式、减少研发费用的模式都是服务于其性价比战略的。关于这个问题，我几天前引用的《中外管理》中相关文章详尽阐述了，低价误国论可以休矣。</p><p>然而，做完这些，小米还嫌不够。他还要通过压缩自己利润的方式来降低售价，实施上图中的低毛利策略。我作为一个消费者，已经明显感受到它最后的这个努力带来了产品的不可抗拒。显然这是把能挣的钱让了出去。如果不这么做，销量低一点，但是总利润一定高。为什么要这么做，全世界的上市公司都不会这么做，所有的投资者都反对这么做。只因为一个人的梦想，一个已经功成名就，还要创业的人。如同很多菊花粉所说，没有无缘无故的让利，总会捞回来的。没错，他要的是让小米成为三星那样规模的全球家用电子产品领导者。他要成为乔布斯或者刚刚逝去的前通用CEO杰克·韦尔奇那样的人物。他就像那日本百年老店中绝不轻言涨价的传世工匠。他通过个人权威在一个上市公司内坚持另类的主张，他通过过去10年的飞速发展说服他的同僚和投资人支持他的战略。我作为一个小股东根本无所谓小米通过兑现利润来推高股价，我期望它的市场越来越广阔，早晚它会给我更多的回报。</p><p><a href=\"http://xueqiu.com/S/01810\" target=\"_blank\">$小米集团-W(<span class=\\\\\\'highlight\\\\\\'>01810</span>)$</a> <a href=\"http://xueqiu.com/S/SH601021\" target=\"_blank\">$春秋航空(SH601021)$</a> <a href=\"http://xueqiu.com/S/SH600519\" target=\"_blank\">$贵州茅台(SH600519)$</a> </p>\\', \\'created_at\\': 1583420813000, \\'retweet_count\\': 0, \\'reply_count\\': 3, \\'fav_count\\': 1, \\'truncated\\': False, \\'commentId\\': 0, \\'retweet_status_id\\': 0, \\'symbol_id\\': None, \\'description\\': \\'...投资人支持他的战略。我作为一个小股东根本无所谓小米通过兑现利润来推高股价，我期望它的市场越来越广阔，早晚它会给我更多的回报。 $小米集团-W( <span class=\\\\\\'highlight\\\\\\'>01810</span> )$ <a href=\"http://xueqiu.com/S/SH601021\" target=\"_blank\">$春秋航空(SH601021)$</a> <a href=\"http://xueqiu.com/S/SH600519\" target=\"_blank\">$贵州茅台(SH600519)$</a> \\', \\'type\\': \\'3\\', \\'source_link\\': None, \\'edited_at\\': 1583421194000, \\'pic\\': \\'https://xqimg.imedao.com/170ab3ab1d21165b3fa4f958.png!thumb.jpg\\', \\'user\\': {\\'subscribeable\\': False, \\'remark\\': None, \\'status\\': 0, \\'common_count\\': 0, \\'domain\\': None, \\'description\\': \\'我们对企业一无所知，但了解人性。\\', \\'type\\': \\'1\\', \\'location\\': None, \\'id\\': 1330041231, \\'stats\\': None, \\'url\\': None, \\'screen_name\\': \\'南墙幽瓦\\', \\'following\\': False, \\'profile\\': \\'/1330041231\\', \\'verified\\': False, \\'blocking\\': False, \\'donate_count\\': 0, \\'friends_count\\': 15, \\'followers_count\\': 857, \\'st_color\\': \\'1\\', \\'follow_me\\': False, \\'verified_description\\': None, \\'province\\': \\'江苏\\', \\'city\\': \\'苏州\\', \\'gender\\': \\'m\\', \\'step\\': \\'null\\', \\'blog_description\\': None, \\'verified_type\\': 0, \\'last_status_id\\': 143047461, \\'status_count\\': 41, \\'recommend\\': None, \\'intro\\': None, \\'stock_status_count\\': None, \\'allow_all_stock\\': False, \\'stocks_count\\': None, \\'name\\': None, \\'group_ids\\': None, \\'name_pinyin\\': None, \\'screenname_pinyin\\': None, \\'block_status\\': 0, \\'_source\\': None, \\'verified_realname\\': False, \\'verified_infos\\': None, \\'profile_image_url\\': \\'community/201811/1546055740032-1546055747533.jpg,community/201811/1546055740032-1546055747533.jpg!180x180.png,community/201811/1546055740032-1546055747533.jpg!50x50.png,community/201811/1546055740032-1546055747533.jpg!30x30.png\\', \\'photo_domain\\': \\'//xavatar.imedao.com/\\'}, \\'retweeted_status\\': None, \\'target\\': \\'/1330041231/143047461\\', \\'fragment\\': None, \\'blocked\\': False, \\'blocking\\': False, \\'topic_pic\\': None, \\'topic_symbol\\': None, \\'topic_title\\': None, \\'topic_desc\\': None, \\'donate_count\\': 0, \\'donate_snowcoin\\': 0, \\'view_count\\': 0, \\'offer\\': None, \\'mark\\': 0, \\'comment\\': None, \\'expend\\': True, \\'rqtype\\': None, \\'rqid\\': 0, \\'firstImg\\': \\'https://xqimg.imedao.com/170ab3ab1d21165b3fa4f958.png!thumb.jpg\\', \\'card\\': None, \\'favorited\\': False, \\'favorited_created_at\\': None, \\'topic_pic_thumbnail\\': None, \\'topic_pic_headOrPad\\': None, \\'topic_pic_thumbnail_small\\': None, \\'canEdit\\': True, \\'shortStatusMultiPic\\': False, \\'timeBefore\\': \\'03-05 23:06\\', \\'mark_desc\\': None, \\'reward_count\\': 0, \\'reward_user_count\\': 0, \\'paid_mention\\': None, \\'is_answer\\': False, \\'is_refused\\': False, \\'is_reward\\': True, \\'_source\\': \\'sc_1:10:01810\\', \\'pic_sizes\\': [{\\'width\\': 858, \\'height\\': 581, \\'ratio\\': \\'1.48\\', \\'score\\': 1, \\'setScore\\': True, \\'setWidth\\': True, \\'setHeight\\': True, \\'setRatio\\': True}], \\'like_count\\': 2, \\'liked\\': False, \\'promotion_pic\\': None, \\'promotion_url\\': None, \\'promotion_id\\': 0, \\'quote_cards\\': None, \\'is_ss_multi_pic\\': False, \\'excellent_comments\\': None, \\'is_bonus\\': False, \\'source\\': \\'雪球\\'}']],\n",
       "      dtype=object)"
      ]
     },
     "execution_count": 28,
     "metadata": {},
     "output_type": "execute_result"
    }
   ],
   "source": [
    "df.values"
   ]
  },
  {
   "cell_type": "code",
   "execution_count": null,
   "metadata": {},
   "outputs": [],
   "source": []
  }
 ],
 "metadata": {
  "kernelspec": {
   "display_name": "Python 3",
   "language": "python",
   "name": "python3"
  },
  "language_info": {
   "codemirror_mode": {
    "name": "ipython",
    "version": 3
   },
   "file_extension": ".py",
   "mimetype": "text/x-python",
   "name": "python",
   "nbconvert_exporter": "python",
   "pygments_lexer": "ipython3",
   "version": "3.7.3"
  }
 },
 "nbformat": 4,
 "nbformat_minor": 4
}
